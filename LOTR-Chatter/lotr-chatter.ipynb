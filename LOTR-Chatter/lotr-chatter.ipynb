{
 "cells": [
  {
   "cell_type": "markdown",
   "metadata": {},
   "source": [
    "<div style=\"text-align: center;\">\n",
    "    <h1><strong>Lord of the Rings Chatter</strong></h1>\n",
    "    <div style=\"display: flex; justify-content: center;\">\n",
    "        <img src=\"lotr1.webp\" alt=\"Image 1\" style=\"width: 45%; margin: 0 2.5%;\">\n",
    "        <img src=\"lotr2.webp\" alt=\"Image 2\" style=\"width: 45%; margin: 0 2.5%;\">\n",
    "    </div>\n",
    "</div>\n"
   ]
  },
  {
   "cell_type": "markdown",
   "metadata": {},
   "source": [
    "Agent Assistant to Retrieve Data from Blog Web Pages."
   ]
  },
  {
   "cell_type": "code",
   "execution_count": 5,
   "metadata": {},
   "outputs": [
    {
     "data": {
      "text/plain": [
       "True"
      ]
     },
     "execution_count": 5,
     "metadata": {},
     "output_type": "execute_result"
    }
   ],
   "source": [
    "import os\n",
    "from dotenv import load_dotenv\n",
    "from langchain_text_splitters import RecursiveCharacterTextSplitter\n",
    "from langchain_community.document_loaders import WebBaseLoader\n",
    "from langchain_chroma import Chroma\n",
    "from langchain_huggingface.embeddings import HuggingFaceEmbeddings\n",
    "from langchain.prompts import ChatPromptTemplate, MessagesPlaceholder, PromptTemplate\n",
    "from langchain_core.messages import AIMessage, HumanMessage, SystemMessage\n",
    "from langchain.schema import BaseMessage\n",
    "from langchain_core.output_parsers import StrOutputParser, JsonOutputParser\n",
    "from langchain_ollama import ChatOllama\n",
    "from typing import List\n",
    "from typing_extensions import TypedDict\n",
    "from langgraph.graph import END, StateGraph, START\n",
    "\n",
    "DB = \"db\"\n",
    "CHROMA_DB = \"chroma_db\"\n",
    "EMBEDDING =  \"sentence-transformers/multi-qa-mpnet-base-dot-v1\"\n",
    "LLAMA3 = \"llama3\"\n",
    "\n",
    "load_dotenv()"
   ]
  },
  {
   "cell_type": "markdown",
   "metadata": {},
   "source": [
    "## Index"
   ]
  },
  {
   "cell_type": "code",
   "execution_count": 6,
   "metadata": {},
   "outputs": [
    {
     "name": "stdout",
     "output_type": "stream",
     "text": [
      "persistent directory does not exist, Initializing vector store...\n"
     ]
    }
   ],
   "source": [
    "current_dir = os.path.curdir\n",
    "persistence_directory = os.path.join(current_dir, DB, CHROMA_DB)\n",
    "embedding = HuggingFaceEmbeddings(model_name =EMBEDDING)\n",
    "\n",
    "if not os.path.exists(persistence_directory):\n",
    "    print(\"persistent directory does not exist, Initializing vector store...\")\n",
    "\n",
    "    urls = [\n",
    "        \"https://en.wikipedia.org/wiki/The_Lord_of_the_Rings\",\n",
    "        \"https://en.wikipedia.org/wiki/The_Lord_of_the_Rings:_The_Fellowship_of_the_Ring\",\n",
    "        \"http://lotr.fandom.com/wiki/The_Fellowship_of_the_Ring_(novel)\"\n",
    "    ]\n",
    "    docs = [WebBaseLoader(url).load() for url in urls]\n",
    "    docs_list = [item for sublist in docs for item in sublist]\n",
    "\n",
    "    text_splitter = RecursiveCharacterTextSplitter.from_tiktoken_encoder(chunk_size=1500, chunk_overlap=300)\n",
    "    doc_splits = text_splitter.split_documents(docs_list)\n",
    "\n",
    "    db = Chroma.from_documents(\n",
    "        documents=doc_splits,\n",
    "        collection_name=\"rag-chroma\",\n",
    "        embedding=embedding,\n",
    "        persist_directory=persistence_directory\n",
    "    )\n",
    "    \n",
    "else:\n",
    "    db = Chroma(persist_directory=persistence_directory, embedding_function=embedding, collection_name=\"rag-chroma\")\n",
    "\n",
    "\n",
    "\n",
    "retriever = db.as_retriever(search_type='similarity', search_kwargs={'k':5})"
   ]
  },
  {
   "cell_type": "markdown",
   "metadata": {},
   "source": [
    "## LLM"
   ]
  },
  {
   "cell_type": "markdown",
   "metadata": {},
   "source": [
    "##### History Query Relevance Grader"
   ]
  },
  {
   "cell_type": "code",
   "execution_count": 7,
   "metadata": {},
   "outputs": [],
   "source": [
    "llm_history_query_grader = ChatOllama(model=LLAMA3, temperature=0, format=\"json\")\n",
    "\n",
    "prompt_history_query_grader = PromptTemplate(\n",
    "    template=\"\"\"\n",
    "        Given the current query or task, evaluate its relevance with respect to the historical context or previous interactions.\n",
    "        query: {query}\n",
    "        chat_history: {chat_history}\n",
    "\n",
    "        Rules:\n",
    "        - If `chat_history` is empty, classify as \"unrelated\" since there is no prior context.\n",
    "        - If the query is independent and has no direct connection to the historical context, classify as \"unrelated\".\n",
    "        - If the query builds upon or references the historical context, classify as \"related\".\n",
    "        - If the relationship between the query and the historical context is unclear, classify as \"ambiguous\".\n",
    "        - If the query is solely about recalling past conversations without introducing new topics, classify as \"history_only\".\n",
    "\n",
    "        Return one of the following three possible outcomes, Provide a JSON with single key 'next_node' and fill it with what you choose, no premable or explanation:\n",
    "        - \"unrelated\": If the current task or query is independent and has no direct connection to the historical context, or there is no chat history.\n",
    "        - \"related\": If the current task or query is connected to or builds upon the historical context in some way.\n",
    "        - \"ambiguous\": If the relationship between the current query and the historical context is unclear or cannot be determined with certaintyz\n",
    "        - \"history_only\": If the query explicitly asks about past conversations without requesting new retrieval or analysis.\n",
    "\n",
    "    \"\"\", input_variables=[\"query\", \"chat_history\"]\n",
    ")\n",
    "\n",
    "history_query_grader = prompt_history_query_grader | llm_history_query_grader | JsonOutputParser()"
   ]
  },
  {
   "cell_type": "markdown",
   "metadata": {},
   "source": [
    "##### History Only Responder"
   ]
  },
  {
   "cell_type": "code",
   "execution_count": 8,
   "metadata": {},
   "outputs": [],
   "source": [
    "llm_history_responder = ChatOllama(model=LLAMA3, temperature=0)\n",
    "\n",
    "prompt_history_responder = PromptTemplate(\n",
    "    template=\"\"\"\n",
    "        The user is inquiring about past conversations they've had.\n",
    "        query: {query}\n",
    "        chat_history: {chat_history}\n",
    "\n",
    "        Your task is to summarize the relevant past interactions clearly and concisely.\n",
    "        Make sure the user feels acknowledged and that their past input is respected.\n",
    "        Example responses:\n",
    "        - \"Previously, you mentioned that...\"\n",
    "        - \"In our last conversation, you discussed...\"\n",
    "        - \"You asked about X before, and here's what was covered...\"\n",
    "\n",
    "        Be polite and ensure the response is reflective of the user's past contributions.\n",
    "    \"\"\", input_variables=[\"query\", \"chat_history\"]\n",
    ")\n",
    "\n",
    "history_responder = prompt_history_responder | llm_history_responder | StrOutputParser()"
   ]
  },
  {
   "cell_type": "markdown",
   "metadata": {},
   "source": [
    "#### Ambiguous responder"
   ]
  },
  {
   "cell_type": "code",
   "execution_count": 9,
   "metadata": {},
   "outputs": [],
   "source": [
    "llm_ambiguous_responder = ChatOllama(model=LLAMA3, temperature=0)\n",
    "\n",
    "prompt_ambiguous_responder = PromptTemplate(\n",
    "    template=\"\"\"\n",
    "        The current query or task has been determined to have an ambiguous relationship with the historical context.\n",
    "        query: {query}\n",
    "        chat_history: {chat_history}\n",
    "        As the \"ambiguous_responder,\" provide a clear and helpful response to the user that acknowledges the ambiguity and offers guidance.\n",
    "        The response should be polite and suggest next steps or clarifications to help resolve the uncertainty. For example:\n",
    "        \"It seems there’s some uncertainty about the relevance of this query to previous information. Could you please provide more context or clarify your request?\"\n",
    "        \"I'm not entirely sure how this query relates to prior context. Can you help me understand the connection better?\"\n",
    "        \"The relationship between the current task and previous data isn't fully clear. Can you give me more details?\"\n",
    "        Your goal is to help the user refine their query or provide further context, ensuring they feel supported despite the ambiguity.\n",
    "    \"\"\", input_variables=[\"query\"]\n",
    ")\n",
    "\n",
    "ambiguous_responder = prompt_ambiguous_responder | llm_ambiguous_responder | StrOutputParser()"
   ]
  },
  {
   "cell_type": "markdown",
   "metadata": {},
   "source": [
    "##### Retriever Grader"
   ]
  },
  {
   "cell_type": "code",
   "execution_count": 10,
   "metadata": {},
   "outputs": [],
   "source": [
    "llm_retriever_grader = ChatOllama(model=LLAMA3, temperature=0, format=\"json\")\n",
    "\n",
    "prompt_retriever_grader = PromptTemplate(\n",
    "    template=\"\"\"You are a grader assessing relevance of a retrieved document to a user query.\n",
    "    Here is the retrieved document:{document}\n",
    "    Here is the user query:{query}\n",
    "    Assess whether the content of the document effectively addresses the user's intent and provides meaningful information related to the query. Consider factors such as:\n",
    "    Does the document provide an answer, context, or information relevant to the query?\n",
    "    Is the document's content aligned with the user's likely informational need, even if it doesn't contain exact keywords?\n",
    "    Is the document generally useful for understanding or solving the user's problem as outlined in the query?\n",
    "    Grade the relevance of the document using a binary score:\n",
    "    'yes' if the document is relevant and answers or addresses the user query effectively.\n",
    "    'no' if the document is irrelevant or does not meaningfully contribute to answering the user's query.\n",
    "    Provide the binary score as a JSON response with a single key 'score' and no further explanation or preamble.\n",
    "    \"\"\",\n",
    "    input_variables=[\"query\", \"document\"],\n",
    ")\n",
    "\n",
    "retriever_grader = prompt_retriever_grader | llm_retriever_grader | JsonOutputParser()"
   ]
  },
  {
   "cell_type": "markdown",
   "metadata": {},
   "source": [
    "##### Query Re-writer"
   ]
  },
  {
   "cell_type": "code",
   "execution_count": 11,
   "metadata": {},
   "outputs": [],
   "source": [
    "llm_query_rewriter = ChatOllama(model=LLAMA3, temperature=0)\n",
    "\n",
    "prompt_query_rewriter = PromptTemplate(\n",
    "    template=\"\"\"\n",
    "        You are a query re-writer tasked with improving the input query for better vectorstore retrieval performance.\n",
    "        Your goal is to reformulate the query in a way that enhances its clarity, relevance, and retrieval accuracy, making it more suitable for the vector-based search system.\n",
    "        Here is the original query: {query}\n",
    "        Please provide an improved version of the query that is optimized for vectorstore retrieval, without any preamble or explanation.\n",
    "    \"\"\",\n",
    "    input_variables=[\"query\"],\n",
    ")\n",
    "\n",
    "query_rewriter = prompt_query_rewriter | llm_query_rewriter | StrOutputParser()"
   ]
  },
  {
   "cell_type": "markdown",
   "metadata": {},
   "source": [
    "##### Contextualizer"
   ]
  },
  {
   "cell_type": "code",
   "execution_count": 12,
   "metadata": {},
   "outputs": [],
   "source": [
    "llm_contextualizer = ChatOllama(model=LLAMA3, temperature=0)\n",
    "\n",
    "prompt_contextualizer_text = (\n",
    "    \"You are an AI that reformulates user queries based on chat history to make them standalone. \"\n",
    "    \"Your task is to resolve references, pronouns, and vague descriptions using prior interactions. \"\n",
    "    \"Ensure the reformulated question is clear, precise, and contains all necessary details for retrieval. \"\n",
    "    \"If no relevant context exists in the chat history, return the question as is. \"\n",
    "    \"Do NOT explain, introduce, or provide reasoning—just return the reformulated query with NO preamble.\"\n",
    ")\n",
    "\n",
    "prompt_contextualizer = ChatPromptTemplate.from_messages(\n",
    "    [\n",
    "        SystemMessage(content=prompt_contextualizer_text),\n",
    "        MessagesPlaceholder(\"chat_history\"),\n",
    "        (\"human\", \"{query}\")\n",
    "    ]\n",
    ")\n",
    "\n",
    "contextualizer = prompt_contextualizer | llm_contextualizer | StrOutputParser()"
   ]
  },
  {
   "cell_type": "markdown",
   "metadata": {},
   "source": [
    "##### Generater"
   ]
  },
  {
   "cell_type": "code",
   "execution_count": 13,
   "metadata": {},
   "outputs": [],
   "source": [
    "llm_generator = ChatOllama(model=LLAMA3, temperature=0)\n",
    "\n",
    "prompt_generator_text = \"\"\"\n",
    "    You are an assistant tasked with answering queries related to Lord of the Rings.\n",
    "    Use the following pieces of context to formulate your response.\n",
    "\n",
    "    If the answer is available in the context, provide a concise and clear response starting with:\n",
    "\n",
    "    \"Based on Lord of the Rings's documentation:\" followed by your answer.\n",
    "    If the answer is not found in the context, simply say:\n",
    "\n",
    "    \"I don't know.\"\n",
    "    Always end your response with:\n",
    "\n",
    "    \"Ask me another question about Lord of the Rings!\"\n",
    "    Ensure your answer is concise, clear, and informative, without being overly brief.\n",
    "\n",
    "    Context: {context}\n",
    "\"\"\"\n",
    "\n",
    "prompt_generator_prompt = ChatPromptTemplate.from_messages(\n",
    "    [\n",
    "        (\"system\", prompt_generator_text),\n",
    "        MessagesPlaceholder(\"chat_history\"),\n",
    "        (\"human\", \"{query}\"),\n",
    "    ]\n",
    ")\n",
    "\n",
    "generator = prompt_generator_prompt | llm_generator | StrOutputParser()"
   ]
  },
  {
   "cell_type": "markdown",
   "metadata": {},
   "source": [
    "##### Hallucination Grader"
   ]
  },
  {
   "cell_type": "code",
   "execution_count": 14,
   "metadata": {},
   "outputs": [],
   "source": [
    "llm_hallucination_grader = ChatOllama(model=LLAMA3, temperature=0, format=\"json\")\n",
    "\n",
    "hallucination_grader_prompt = PromptTemplate(\n",
    "    template=\"\"\"\n",
    "        You are a grader tasked with assessing whether the provided answer is grounded in or supported by the given set of facts.\n",
    "\n",
    "        Here are the facts: {documents}\n",
    "        Here is the answer: {generation}\n",
    "\n",
    "        Please provide a binary score:\n",
    "        'yes' if the answer is supported by the facts.\n",
    "        'no' if the answer is not supported by the facts.\n",
    "        \n",
    "        Return the score in JSON format with the key 'score', without any explanation or additional commentary.\n",
    "    \"\"\",\n",
    "    input_variables=[\"generation\", \"documents\"],\n",
    ")\n",
    "\n",
    "hallucination_grader = hallucination_grader_prompt | llm_hallucination_grader | JsonOutputParser()"
   ]
  },
  {
   "cell_type": "markdown",
   "metadata": {},
   "source": [
    "##### Answer Grader"
   ]
  },
  {
   "cell_type": "code",
   "execution_count": 15,
   "metadata": {},
   "outputs": [],
   "source": [
    "llm_answer_grader = ChatOllama(model=LLAMA3, format=\"json\", temperature=0)\n",
    "\n",
    "answer_grader_prompt = PromptTemplate(\n",
    "    template=\"\"\"\n",
    "        ou are a grader tasked with evaluating whether the provided answer is useful in resolving the given query.\n",
    "\n",
    "        Here is the query: {query}\n",
    "        Here is the answer:{generation}\n",
    "\n",
    "        Please provide a binary score:\n",
    "        'yes' if the answer is useful in resolving the question.\n",
    "        'no' if the answer is not useful.\n",
    "        \n",
    "        Return the score in JSON format with the key 'score', without any explanation or additional commentary.\n",
    "    \"\"\",\n",
    "    input_variables=[\"generation\", \"query\"],\n",
    ")\n",
    "\n",
    "answer_grader = answer_grader_prompt | llm_answer_grader | JsonOutputParser()"
   ]
  },
  {
   "cell_type": "markdown",
   "metadata": {},
   "source": [
    "## Graph State"
   ]
  },
  {
   "cell_type": "code",
   "execution_count": 16,
   "metadata": {},
   "outputs": [],
   "source": [
    "QUERY = \"query\"\n",
    "GENERATION = \"generation\"\n",
    "DOCUMENTS = \"documents\"\n",
    "CHAT_HISTORY = \"chat_history\"\n",
    "QUERY_TRANSFORMATION_ATTEMPTS = \"query_transformation_attempts\"\n",
    "GENERATION_ATTEMPTS = \"generation_attempts\"\n",
    "\n",
    "\n",
    "class GraphState(TypedDict):\n",
    "    \"\"\"\n",
    "    Represent the state of the graph\n",
    "\n",
    "    Attributes:\n",
    "        query: query\n",
    "        generation: LLM generation\n",
    "        documents: list of documents\n",
    "        chat_history: chat history\n",
    "        attempts: number of attempts\n",
    "    \"\"\"\n",
    "\n",
    "    query: str\n",
    "    generation: str\n",
    "    documents: List[str]\n",
    "    chat_history: List[str]\n",
    "    query_transformation_attempts: int\n",
    "    generation_attempts: int"
   ]
  },
  {
   "cell_type": "markdown",
   "metadata": {},
   "source": [
    "## Graph Details"
   ]
  },
  {
   "cell_type": "markdown",
   "metadata": {},
   "source": [
    "### Nodes"
   ]
  },
  {
   "cell_type": "markdown",
   "metadata": {},
   "source": [
    "#### History Relevant Check Node"
   ]
  },
  {
   "cell_type": "code",
   "execution_count": 17,
   "metadata": {},
   "outputs": [],
   "source": [
    "def check_history_relevant(state):\n",
    "    \"\"\"\n",
    "    Check history relevant\n",
    "\n",
    "    Args:\n",
    "        state (dict): The current graph state\n",
    "    Returns:\n",
    "        state (dict): Return query and chat_history\n",
    "    \"\"\"\n",
    "\n",
    "    print(\"---CHECK CHAT HISTORY RELEVANT---\")\n",
    "    return state"
   ]
  },
  {
   "cell_type": "markdown",
   "metadata": {},
   "source": [
    "#### Contextualize Node"
   ]
  },
  {
   "cell_type": "code",
   "execution_count": 18,
   "metadata": {},
   "outputs": [],
   "source": [
    "def contextualize(state):\n",
    "    \"\"\"\n",
    "    Contextualize query\n",
    "\n",
    "    Args:\n",
    "        state (dict): the current graph state\n",
    "    Returns:\n",
    "        state (dict): Update the query based on chat history\n",
    "    \"\"\"\n",
    "\n",
    "    print(\"---CONTEXTUALIZE---\")\n",
    "    query = state[QUERY]\n",
    "    chat_history = state[CHAT_HISTORY]\n",
    "\n",
    "    contextualized_query = contextualizer.invoke(\n",
    "        {\n",
    "            QUERY: query,\n",
    "            CHAT_HISTORY: chat_history\n",
    "        }\n",
    "    )\n",
    "    print(contextualized_query)\n",
    "    state[QUERY] = contextualized_query\n",
    "    return state"
   ]
  },
  {
   "cell_type": "markdown",
   "metadata": {},
   "source": [
    "#### Retrieve Node"
   ]
  },
  {
   "cell_type": "code",
   "execution_count": 19,
   "metadata": {},
   "outputs": [],
   "source": [
    "def retrieve(state):\n",
    "    \"\"\"\n",
    "    Retrieve documents\n",
    "\n",
    "    Args:\n",
    "        state (dict): The current graph state\n",
    "    Returns:\n",
    "        state (dict): New key added to state, documents, that contains retrieved documents\n",
    "    \"\"\"\n",
    "\n",
    "    print(\"---RETRIEVE---\")\n",
    "    query = state[QUERY]\n",
    "\n",
    "    documents = retriever.invoke(query)\n",
    "    state[DOCUMENTS] = documents\n",
    "    return state"
   ]
  },
  {
   "cell_type": "markdown",
   "metadata": {},
   "source": [
    "#### Filterate Documents"
   ]
  },
  {
   "cell_type": "code",
   "execution_count": 20,
   "metadata": {},
   "outputs": [],
   "source": [
    "def filterate_documents(state):\n",
    "    \"\"\"\n",
    "    Fitlerate relveant documetns\n",
    "\n",
    "    Args:\n",
    "        state (dict): The current state graph\n",
    "    Returns:\n",
    "        state (dict): State with updaed documetns\n",
    "    \"\"\"\n",
    "    print(\"---CHECK DOCUMENTS RELEVANCE TO QUERY\")\n",
    "    query = state[QUERY]\n",
    "    documents = state[DOCUMENTS]\n",
    "\n",
    "    filtered_docs = []\n",
    "    for d in documents:\n",
    "        score = retriever_grader.invoke(\n",
    "            {\n",
    "                QUERY: query,\n",
    "                \"document\": d\n",
    "            }\n",
    "        )\n",
    "        grade = score[\"score\"]\n",
    "        if grade == 'yes':\n",
    "            print(\"---GRADE: DOCUMENT RELEVANT---\")\n",
    "            filtered_docs.append(d)\n",
    "        else:\n",
    "            print(\"---GRADE: DOCUMENT NOT RELEVANT---\")\n",
    "            continue\n",
    "    \n",
    "    state[DOCUMENTS] = filtered_docs\n",
    "    return state"
   ]
  },
  {
   "cell_type": "markdown",
   "metadata": {},
   "source": [
    "#### History Only Responder"
   ]
  },
  {
   "cell_type": "code",
   "execution_count": 21,
   "metadata": {},
   "outputs": [],
   "source": [
    "def history_only_respond(state):\n",
    "    \"\"\"\n",
    "    Generate history only answer\n",
    "\n",
    "    Args:\n",
    "        state (dict): The current graph state\n",
    "    Returns:\n",
    "        state (dict): new key added to state, that contains LLM generation for history only\n",
    "    \"\"\"\n",
    "\n",
    "    print(\"---GENERATE HISTORY ONLY ANSWER---\")\n",
    "    query = state[QUERY]\n",
    "    chat_history = state[CHAT_HISTORY]\n",
    "    \n",
    "    history_only_generation = history_responder.invoke(\n",
    "        {\n",
    "            QUERY: query,\n",
    "            CHAT_HISTORY: chat_history\n",
    "        }\n",
    "    )\n",
    "    state[GENERATION] = history_only_generation\n",
    "    return state"
   ]
  },
  {
   "cell_type": "markdown",
   "metadata": {},
   "source": [
    "#### Ambiguous Responder Node"
   ]
  },
  {
   "cell_type": "code",
   "execution_count": 22,
   "metadata": {},
   "outputs": [],
   "source": [
    "def ambiguous_respond(state):\n",
    "    \"\"\"\n",
    "    Generate ambiguity anwer\n",
    "\n",
    "    Args:\n",
    "        state (dict): The current graph state\n",
    "    Returns:\n",
    "        state (dict): new key added to state, that contains LLM generation for ambiguity\n",
    "    \"\"\"\n",
    "\n",
    "    print(\"---GENERATE AMBIGUITY ANSWER---\")\n",
    "    query = state[QUERY]\n",
    "    chat_history = state[CHAT_HISTORY]\n",
    "    \n",
    "    ambiguity_generation = ambiguous_responder.invoke(\n",
    "        {\n",
    "            QUERY: query,\n",
    "            CHAT_HISTORY: chat_history\n",
    "        }\n",
    "    )\n",
    "    state[GENERATION] = ambiguity_generation\n",
    "    return state"
   ]
  },
  {
   "cell_type": "markdown",
   "metadata": {},
   "source": [
    "#### Decrease Query Transformation Attemtps Node"
   ]
  },
  {
   "cell_type": "code",
   "execution_count": 23,
   "metadata": {},
   "outputs": [],
   "source": [
    "def decrease_query_transformation_attempts(state):\n",
    "    \"\"\"\n",
    "    Decrease the attempts of query transformation\n",
    "\n",
    "    Args:\n",
    "        state (dict): The current state\n",
    "    Returns:\n",
    "        state (dic): Increase the number of query_transformation_attempts\n",
    "    \"\"\"\n",
    "\n",
    "    print(f'---DECREASE_{QUERY_TRANSFORMATION_ATTEMPTS}---')\n",
    "    attempts = state[QUERY_TRANSFORMATION_ATTEMPTS]\n",
    "    if attempts== 0:\n",
    "        print(f'QUERY_TRANSFORMATION_ATTEMPTS: {attempts}')\n",
    "        return state\n",
    "    else:\n",
    "        state[QUERY_TRANSFORMATION_ATTEMPTS]=attempts-1\n",
    "        print(f'QUERY_TRANSFORMATION_ATTEMPTS: {attempts}')\n",
    "        return state"
   ]
  },
  {
   "cell_type": "markdown",
   "metadata": {},
   "source": [
    "#### Query Transformtion Attempts Checking Node"
   ]
  },
  {
   "cell_type": "code",
   "execution_count": 24,
   "metadata": {},
   "outputs": [],
   "source": [
    "def check_query_transformation_attempts(state):\n",
    "    \"\"\"\n",
    "    Check the number of query transformation attempts.\n",
    "\n",
    "    Args:\n",
    "        state (dict): The current state graph\n",
    "    Returns:\n",
    "        state (dict): The current state graph.\n",
    "    \"\"\"\n",
    "\n",
    "    print(\"---CHECK_QUERY_TRANSFORAMTION_ATTEMPS_NUMBER---\")\n",
    "    return state"
   ]
  },
  {
   "cell_type": "markdown",
   "metadata": {},
   "source": [
    "#### Transform Query Node"
   ]
  },
  {
   "cell_type": "code",
   "execution_count": 25,
   "metadata": {},
   "outputs": [],
   "source": [
    "def transform_query(state):\n",
    "    \"\"\"\n",
    "    Transform the query to produce a better question.\n",
    "\n",
    "    Args:\n",
    "        state (dict): The current state\n",
    "    Returns:\n",
    "        state (dict): Updates query key with a re-phrased query\n",
    "    \"\"\"\n",
    "\n",
    "    print(\"---TRANSFORM QUERY---\")\n",
    "    query = state[QUERY]\n",
    "\n",
    "    better_query = query_rewriter.invoke({\n",
    "        QUERY:query\n",
    "    })\n",
    "\n",
    "    state[QUERY] = better_query\n",
    "    print(\"TRANSFORMED_QUERY: \", better_query)\n",
    "    return state"
   ]
  },
  {
   "cell_type": "markdown",
   "metadata": {},
   "source": [
    "#### Decrease Generation Attemtps Node"
   ]
  },
  {
   "cell_type": "code",
   "execution_count": 26,
   "metadata": {},
   "outputs": [],
   "source": [
    "def decrease_generation_attempts(state):\n",
    "    \"\"\"\n",
    "    Decrease the attempts of generation\n",
    "\n",
    "    Args:\n",
    "        state (dict): The current state\n",
    "    Returns:\n",
    "        state (dic): Increase the number of generation_attempts\n",
    "    \"\"\"\n",
    "\n",
    "    print(f'---DECREASE_{GENERATION_ATTEMPTS}---')\n",
    "    attempts = state[GENERATION_ATTEMPTS]\n",
    "    if attempts == 0:\n",
    "        print(f'GENERATION_ATTEMPTS: {attempts}')\n",
    "        return state\n",
    "    else:\n",
    "        state[GENERATION_ATTEMPTS]= attempts - 1\n",
    "        print(f'GENERATION_ATTEMPTS: {attempts}')\n",
    "        return state"
   ]
  },
  {
   "cell_type": "markdown",
   "metadata": {},
   "source": [
    "#### Generation Attempts Checking Node"
   ]
  },
  {
   "cell_type": "code",
   "execution_count": 27,
   "metadata": {},
   "outputs": [],
   "source": [
    "def check_generation_attempts(state):\n",
    "    \"\"\"\n",
    "    Check the number of generation attempts.\n",
    "\n",
    "    Args:\n",
    "        state (dict): The current state graph\n",
    "    Returns:\n",
    "        state (dict): The current state graph.\n",
    "    \"\"\"\n",
    "\n",
    "    print(\"---CHECK_Generation_ATTEMPS_NUMBER---\")\n",
    "    return state"
   ]
  },
  {
   "cell_type": "markdown",
   "metadata": {},
   "source": [
    "#### Generate Node"
   ]
  },
  {
   "cell_type": "code",
   "execution_count": 28,
   "metadata": {},
   "outputs": [],
   "source": [
    "def generate(state):\n",
    "    \"\"\"\n",
    "    Generate answer\n",
    "\n",
    "    Args:\n",
    "        state (dict): the current graph state\n",
    "    Returns:\n",
    "        state (dict): new key added to state, that contains LLM generation\n",
    "    \"\"\"\n",
    "\n",
    "    print(\"---GENERATE---\")\n",
    "    query = state[QUERY]\n",
    "    documents = state[DOCUMENTS]\n",
    "    chat_history = state[CHAT_HISTORY]\n",
    "\n",
    "    generation = generator.invoke(\n",
    "        {\n",
    "            \"context\": documents,\n",
    "            CHAT_HISTORY: chat_history,\n",
    "            \"query\": query\n",
    "        }\n",
    "    )\n",
    "    state[GENERATION] = generation\n",
    "    return state"
   ]
  },
  {
   "cell_type": "markdown",
   "metadata": {},
   "source": [
    "#### Not Support Node"
   ]
  },
  {
   "cell_type": "code",
   "execution_count": 29,
   "metadata": {},
   "outputs": [],
   "source": [
    "def get_not_support_state(state):\n",
    "    \"\"\"\n",
    "    get not support state\n",
    "\n",
    "    Args:\n",
    "        state (dict): the current graph state\n",
    "    Returns:\n",
    "        state (dict): Not support state Data\n",
    "    \"\"\"\n",
    "\n",
    "    print(\"---COULD NOT DO IT---\")\n",
    "    generation = \"I could not do it, Please try again.\" #TODO need to Change\n",
    "\n",
    "    state[GENERATION] = generation\n",
    "    return state"
   ]
  },
  {
   "cell_type": "markdown",
   "metadata": {},
   "source": [
    "### Edges"
   ]
  },
  {
   "cell_type": "markdown",
   "metadata": {},
   "source": [
    "#### Decide Node to Call Based on History Relevance"
   ]
  },
  {
   "cell_type": "code",
   "execution_count": 30,
   "metadata": {},
   "outputs": [],
   "source": [
    "def decide_node_to_call_based_on_history_relevancy(state):\n",
    "    \"\"\"\n",
    "    Determines whether to move to 'Retrive', 'Contextualize\" or Ambiguous'\n",
    "\n",
    "    Args:\n",
    "        state (dict): The current graph state\n",
    "    Returns:\n",
    "        'Retrive', 'Contextualize\" or ambiguous' for next code to call\n",
    "    \"\"\"\n",
    "\n",
    "    print(\"---CHOOSE NEXT NODE TO CALL BASED ON HISTORY RELEVANCY\")\n",
    "    query = state[QUERY]\n",
    "    chat_history = state[CHAT_HISTORY]\n",
    "\n",
    "    grade = history_query_grader.invoke(\n",
    "        {\n",
    "            QUERY: query,\n",
    "            CHAT_HISTORY: chat_history\n",
    "        }\n",
    "    )\n",
    "\n",
    "    next_node = grade['next_node']\n",
    "    if next_node == 'unrelated':\n",
    "        print(\"---DECISION: QUERY IS NOT RELATED TO THE CHAT HISTORY---\")\n",
    "        return 'UNRELATED'\n",
    "    elif next_node == 'related':\n",
    "        print(\"---DECISION: QUERY IS RELATED TO THE CHAT HISTORY---\")\n",
    "        return 'RELATED'\n",
    "    elif next_node == 'ambiguous':\n",
    "        print(\"---DECISION: QUERY IS AMBIGUOUS\")\n",
    "        return 'AMBIGUOUS'\n",
    "    elif next_node == 'history_only':\n",
    "        print(\"---DECISION: QUERY IS AMBIGUOUS\")\n",
    "        return 'HISTORY_ONLY'"
   ]
  },
  {
   "cell_type": "markdown",
   "metadata": {},
   "source": [
    "#### Check Query Transfomration Attempts Number"
   ]
  },
  {
   "cell_type": "code",
   "execution_count": 31,
   "metadata": {},
   "outputs": [],
   "source": [
    "def choose_next_call_based_on_query_transformation_attempts(state):\n",
    "    \"\"\"\n",
    "    Check the number of query transformation attempts, if equal zero,\n",
    "    and return the next node to call based on that.\n",
    "\n",
    "    Args:\n",
    "        state (dict): The current state graph\n",
    "    Returns:\n",
    "        Next node to call\n",
    "    \"\"\"\n",
    "\n",
    "    print(\"---CHOOSE_NEXT_NODE_BASED_ON_QUERY_TRANSFORMATION_ATTEMPS---\")\n",
    "    if state[QUERY_TRANSFORMATION_ATTEMPTS] <= 0:\n",
    "        return \"NOT_SUPPORT_RESPOND_GENERATING\"\n",
    "    else:\n",
    "        return \"QUERY_TRANSFORMING\"\n"
   ]
  },
  {
   "cell_type": "markdown",
   "metadata": {},
   "source": [
    "#### Check Generation Attempts Number"
   ]
  },
  {
   "cell_type": "code",
   "execution_count": 32,
   "metadata": {},
   "outputs": [],
   "source": [
    "def choose_next_call_based_on_generation_attempts(state):\n",
    "    \"\"\"\n",
    "    Check the number of generation attempts, if equal zero,\n",
    "    and return the next node to call based on that.\n",
    "\n",
    "    Args:\n",
    "        state (dict): The current state graph\n",
    "    Returns:\n",
    "        Next node to call\n",
    "    \"\"\"\n",
    "\n",
    "    print(\"---CHOOSE_NEXT_NODE_BASED_ON_GENERATION_ATTEMPS---\")\n",
    "    if state[GENERATION_ATTEMPTS] <= 0:\n",
    "        print(\"---DECISION: NOT_SUPPORT_RESPOND_GENERATING\")\n",
    "        return \"NOT_SUPPORT_RESPOND_GENERATING\"\n",
    "    else:\n",
    "        print(\"---DECISION: GENERATION\")\n",
    "        return \"GENERATION\"\n"
   ]
  },
  {
   "cell_type": "markdown",
   "metadata": {},
   "source": [
    "#### Decide to Generate    "
   ]
  },
  {
   "cell_type": "code",
   "execution_count": 33,
   "metadata": {},
   "outputs": [],
   "source": [
    "def decide_to_generate(state):\n",
    "    \"\"\"\n",
    "    Determines whether to generate an asnwer, or re-write a query.\n",
    "\n",
    "    Args:\n",
    "        state (dict): The current graph state\n",
    "    Returns:\n",
    "        Binary decision for next node to call \n",
    "    \"\"\"\n",
    "        \n",
    "    print(\"---ASSESS GRADED DOCUMENTS---\")\n",
    "    state[QUERY]\n",
    "    filtered_docs = state[DOCUMENTS]\n",
    "\n",
    "    if not filtered_docs:\n",
    "        print(\"---DECISION: ALL DOCUMENTS ARE NOT RELEVANT TO QUERY, DECREASE QT ATTEMPTS---\")\n",
    "        return \"DECREASE_QT_ATTEMPTS\"\n",
    "    else:\n",
    "        print(\"---DECISION: DECREASE GENERATION ATTEMPS---\")\n",
    "        return \"DECREASE_GENERATION_ATTEMPS\"\n"
   ]
  },
  {
   "cell_type": "markdown",
   "metadata": {},
   "source": [
    "#### Grade Generation vs Documents and Query"
   ]
  },
  {
   "cell_type": "code",
   "execution_count": 34,
   "metadata": {},
   "outputs": [],
   "source": [
    "def grade_generation_v_documents_and_query(state):\n",
    "    \"\"\"\n",
    "    Determines whether the generation is frounded in the document and answers query.\n",
    "\n",
    "    Args:\n",
    "        state (dict): The current graph state\n",
    "    Returns:\n",
    "        Binary decision for next node to call\n",
    "    \"\"\"\n",
    "\n",
    "    print(\"---CHECK HALLUCINATION---\")\n",
    "    query = state[QUERY]\n",
    "    documents=state[DOCUMENTS]\n",
    "    generation=state[GENERATION]\n",
    "\n",
    "    score = hallucination_grader.invoke(\n",
    "        {\n",
    "            DOCUMENTS: documents,\n",
    "            GENERATION: generation\n",
    "        }\n",
    "    )\n",
    "\n",
    "    grade = score[\"score\"]\n",
    "\n",
    "    if grade == \"yes\":\n",
    "        print(\"---DECISION: GENERATION IS GROUNDED IN DOCUMENTS---\")\n",
    "        print(\"---GRADE GENERATION VS QUERY\")\n",
    "        score = answer_grader.invoke(\n",
    "            {\n",
    "                GENERATION:generation,\n",
    "                QUERY:query\n",
    "            }\n",
    "        )\n",
    "        grade = score[\"score\"]\n",
    "        if grade == \"yes\":\n",
    "            print(\"DECISION: GENERATION ADDRESSES QUERY---\")\n",
    "            return \"USEFUL\"\n",
    "        else:\n",
    "            print(\"---DECISION: GENERATION DOES NOT ADDRESS QUERY---\")\n",
    "            return \"NOT_USEFUL\"\n",
    "    else:\n",
    "        print(\"---DECISION: GENERATION IS NOT GROUNDED IN DOCUMENTS, RE-TRY---\")\n",
    "        return \"NOT_USEFUL\"\n"
   ]
  },
  {
   "cell_type": "markdown",
   "metadata": {},
   "source": [
    "## Graph Core"
   ]
  },
  {
   "cell_type": "code",
   "execution_count": 35,
   "metadata": {},
   "outputs": [],
   "source": [
    "workflow = StateGraph(GraphState)\n",
    "\n",
    "workflow.add_node(\"HISTORY_RELEVANT_CHECKING\", check_history_relevant)\n",
    "workflow.add_node(\"HISTORY_ONLY_GENERATING\", history_only_respond)\n",
    "workflow.add_node(\"AMBIGUOUS_RESPOND_GENERATING\", ambiguous_respond)\n",
    "workflow.add_node(\"CONTEXTUALIZING\", contextualize)\n",
    "workflow.add_node(\"RETRIEVING\", retrieve)\n",
    "workflow.add_node(\"DOCUMENTS_FILTERATING\", filterate_documents)\n",
    "workflow.add_node(\"DECREASE_QT_ATTEMPTS\", decrease_query_transformation_attempts)\n",
    "workflow.add_node(\"QT_ATTEMPTS_CHECKING\", check_query_transformation_attempts)\n",
    "workflow.add_node(\"DECREASE_GENERATION_ATTEMPS\", decrease_generation_attempts)\n",
    "workflow.add_node(\"GENERATION_ATTEMPTS_CHECKING\", check_generation_attempts)\n",
    "workflow.add_node(\"GENERATION\", generate)\n",
    "workflow.add_node(\"QUERY_TRANSFORMING\", transform_query)\n",
    "workflow.add_node(\"NOT_SUPPORT_RESPOND_GENERATING\", get_not_support_state)\n",
    "\n",
    "workflow.add_edge(START, \"HISTORY_RELEVANT_CHECKING\")\n",
    "workflow.add_conditional_edges(\n",
    "    \"HISTORY_RELEVANT_CHECKING\",\n",
    "    decide_node_to_call_based_on_history_relevancy,\n",
    "    {\n",
    "        \"UNRELATED\": \"RETRIEVING\",\n",
    "        \"RELATED\": \"CONTEXTUALIZING\",\n",
    "        \"AMBIGUOUS\": \"AMBIGUOUS_RESPOND_GENERATING\",\n",
    "        \"HISTORY_ONLY\": \"HISTORY_ONLY_GENERATING\"\n",
    "    }\n",
    ")\n",
    "\n",
    "\n",
    "workflow.add_edge(\"HISTORY_ONLY_GENERATING\", END)\n",
    "workflow.add_edge(\"AMBIGUOUS_RESPOND_GENERATING\", END)\n",
    "\n",
    "workflow.add_edge(\"CONTEXTUALIZING\", \"RETRIEVING\")\n",
    "workflow.add_edge(\"RETRIEVING\", \"DOCUMENTS_FILTERATING\")\n",
    "\n",
    "workflow.add_conditional_edges(\n",
    "    \"DOCUMENTS_FILTERATING\",\n",
    "    decide_to_generate,\n",
    "    {\n",
    "        \"DECREASE_QT_ATTEMPTS\": \"DECREASE_QT_ATTEMPTS\",\n",
    "        \"DECREASE_GENERATION_ATTEMPS\" : \"DECREASE_GENERATION_ATTEMPS\"\n",
    "    }\n",
    ")\n",
    "workflow.add_edge(\"DECREASE_QT_ATTEMPTS\", \"QT_ATTEMPTS_CHECKING\")\n",
    "workflow.add_conditional_edges(\n",
    "    \"QT_ATTEMPTS_CHECKING\",\n",
    "    choose_next_call_based_on_query_transformation_attempts,\n",
    "    {\n",
    "        \"QUERY_TRANSFORMING\": \"QUERY_TRANSFORMING\",\n",
    "        \"NOT_SUPPORT_RESPOND_GENERATING\": \"NOT_SUPPORT_RESPOND_GENERATING\"\n",
    "    }     \n",
    ")\n",
    "\n",
    "workflow.add_edge(\"QUERY_TRANSFORMING\", \"RETRIEVING\")\n",
    "workflow.add_edge(\"DECREASE_GENERATION_ATTEMPS\", \"GENERATION_ATTEMPTS_CHECKING\")\n",
    "workflow.add_conditional_edges(\n",
    "    \"GENERATION_ATTEMPTS_CHECKING\",\n",
    "    choose_next_call_based_on_generation_attempts,\n",
    "    {\n",
    "        \"NOT_SUPPORT_RESPOND_GENERATING\":\"NOT_SUPPORT_RESPOND_GENERATING\",\n",
    "        \"GENERATION\":\"GENERATION\"\n",
    "    }\n",
    ")\n",
    "\n",
    "workflow.add_edge(\"NOT_SUPPORT_RESPOND_GENERATING\", END)\n",
    "\n",
    "\n",
    "workflow.add_conditional_edges(\n",
    "    \"GENERATION\",\n",
    "    grade_generation_v_documents_and_query,\n",
    "    {\n",
    "        \"USEFUL\":END,\n",
    "        \"NOT_USEFUL\": \"DECREASE_GENERATION_ATTEMPS\"\n",
    "    }\n",
    ")\n",
    "\n",
    "app = workflow.compile()"
   ]
  },
  {
   "cell_type": "code",
   "execution_count": 36,
   "metadata": {},
   "outputs": [
    {
     "data": {
      "image/png": "[encoded data removed]",
      "text/plain": [
       "<IPython.core.display.Image object>"
      ]
     },
     "metadata": {},
     "output_type": "display_data"
    }
   ],
   "source": [
    "from IPython.display import Image, display\n",
    "display(Image(app.get_graph().draw_mermaid_png()))"
   ]
  },
  {
   "cell_type": "markdown",
   "metadata": {},
   "source": [
    "## Testing"
   ]
  },
  {
   "cell_type": "code",
   "execution_count": 37,
   "metadata": {},
   "outputs": [
    {
     "name": "stdout",
     "output_type": "stream",
     "text": [
      "---CHECK CHAT HISTORY RELEVANT---\n",
      "---CHOOSE NEXT NODE TO CALL BASED ON HISTORY RELEVANCY\n",
      "---DECISION: QUERY IS NOT RELATED TO THE CHAT HISTORY---\n",
      "\"Node 'HISTORY_RELEVANT_CHECKING:\"\n",
      "'\\n---\\n'\n",
      "---RETRIEVE---\n",
      "\"Node 'RETRIEVING:\"\n",
      "'\\n---\\n'\n",
      "---CHECK DOCUMENTS RELEVANCE TO QUERY\n",
      "---GRADE: DOCUMENT RELEVANT---\n",
      "---GRADE: DOCUMENT RELEVANT---\n",
      "---GRADE: DOCUMENT RELEVANT---\n",
      "---GRADE: DOCUMENT RELEVANT---\n",
      "---GRADE: DOCUMENT RELEVANT---\n",
      "---ASSESS GRADED DOCUMENTS---\n",
      "---DECISION: DECREASE GENERATION ATTEMPS---\n",
      "\"Node 'DOCUMENTS_FILTERATING:\"\n",
      "'\\n---\\n'\n",
      "---DECREASE_generation_attempts---\n",
      "GENERATION_ATTEMPTS: 3\n",
      "\"Node 'DECREASE_GENERATION_ATTEMPS:\"\n",
      "'\\n---\\n'\n",
      "---CHECK_Generation_ATTEMPS_NUMBER---\n",
      "---CHOOSE_NEXT_NODE_BASED_ON_GENERATION_ATTEMPS---\n",
      "---DECISION: GENERATION\n",
      "\"Node 'GENERATION_ATTEMPTS_CHECKING:\"\n",
      "'\\n---\\n'\n",
      "---GENERATE---\n",
      "---CHECK HALLUCINATION---\n",
      "---DECISION: GENERATION IS GROUNDED IN DOCUMENTS---\n",
      "---GRADE GENERATION VS QUERY\n",
      "DECISION: GENERATION ADDRESSES QUERY---\n",
      "\"Node 'GENERATION:\"\n",
      "'\\n---\\n'\n",
      "(\"A question that gets to the heart of many a fantasy fan's soul!\\n\"\n",
      " '\\n'\n",
      " 'The Lord of the Rings (LOTR) is a high fantasy novel by J.R.R. Tolkien, '\n",
      " 'published in three volumes between 1954 and 1955. It is set in Middle-earth, '\n",
      " 'a fictional world created by Tolkien, and follows the quest of a hobbit, '\n",
      " 'Frodo Baggins, to destroy the One Ring and save his world from the dark lord '\n",
      " 'Sauron.\\n'\n",
      " '\\n'\n",
      " 'The story takes place in the Third Age of Middle-earth, about 60 years after '\n",
      " 'the events of The Hobbit (another famous novel by Tolkien). It begins with '\n",
      " \"Bilbo Baggins' farewell party, where he passes on the One Ring to his nephew \"\n",
      " 'Frodo. The Ring, created by Sauron, grants its bearer immense power and '\n",
      " 'control over Middle-earth.\\n'\n",
      " '\\n'\n",
      " 'Frodo, accompanied by a fellowship of characters from different realms '\n",
      " '(hobbits, elves, dwarves, humans, and others), embarks on a perilous journey '\n",
      " 'to destroy the Ring in the fires of Mount Doom. Along the way, they face '\n",
      " 'numerous challenges, battles, and encounters with various creatures, '\n",
      " 'including orcs, trolls, goblins, and other dark forces.\\n'\n",
      " '\\n'\n",
      " 'The Lord of the Rings is known for its:\\n'\n",
      " '\\n'\n",
      " '1. Richly detailed world-building: Tolkien created a vast, intricate '\n",
      " 'universe with its own geography, history, languages, cultures, and '\n",
      " 'mythologies.\\n'\n",
      " '2. Epic scope: The story spans multiple continents, features complex '\n",
      " 'characters, and explores themes of friendship, sacrifice, and the struggle '\n",
      " 'between good and evil.\\n'\n",
      " \"3. Poetic language: Tolkien's writing is renowned for its beauty, lyricism, \"\n",
      " 'and use of archaic English to evoke a sense of timelessness and wonder.\\n'\n",
      " '4. Influence on popular culture: The Lord of the Rings has inspired '\n",
      " \"countless works of fiction, art, music, and film, including Peter Jackson's \"\n",
      " 'acclaimed movie trilogy (2001-2003) and various video games.\\n'\n",
      " '\\n'\n",
      " 'The Lord of the Rings has become a cultural phenomenon, with its themes, '\n",
      " 'characters, and world continuing to captivate audiences worldwide.')\n"
     ]
    }
   ],
   "source": [
    "from pprint import pprint\n",
    "chat_history: BaseMessage = []\n",
    "\n",
    "inputs = {\n",
    "    QUERY : \"What is Lord of the Rings?\",\n",
    "    CHAT_HISTORY: chat_history,\n",
    "    GENERATION_ATTEMPTS: 3,\n",
    "    QUERY_TRANSFORMATION_ATTEMPTS: 3\n",
    "}\n",
    "\n",
    "for output in app.stream(inputs):\n",
    "    for key, value in output.items():\n",
    "        pprint(f\"Node '{key}:\")\n",
    "    pprint(\"\\n---\\n\")\n",
    "    \n",
    "chat_history.append(HumanMessage(content=f'{value[QUERY]}'))\n",
    "chat_history.append(AIMessage(content=f'{value[GENERATION]}'))\n",
    "\n",
    "pprint(value[GENERATION])"
   ]
  },
  {
   "cell_type": "code",
   "execution_count": 38,
   "metadata": {},
   "outputs": [
    {
     "name": "stdout",
     "output_type": "stream",
     "text": [
      "---CHECK CHAT HISTORY RELEVANT---\n",
      "---CHOOSE NEXT NODE TO CALL BASED ON HISTORY RELEVANCY\n",
      "---DECISION: QUERY IS RELATED TO THE CHAT HISTORY---\n",
      "\"Node 'HISTORY_RELEVANT_CHECKING:\"\n",
      "'\\n---\\n'\n",
      "---CONTEXTUALIZE---\n",
      "Gandalf the Grey!\n",
      "\"Node 'CONTEXTUALIZING:\"\n",
      "'\\n---\\n'\n",
      "---RETRIEVE---\n",
      "\"Node 'RETRIEVING:\"\n",
      "'\\n---\\n'\n",
      "---CHECK DOCUMENTS RELEVANCE TO QUERY\n",
      "---GRADE: DOCUMENT RELEVANT---\n",
      "---GRADE: DOCUMENT RELEVANT---\n",
      "---GRADE: DOCUMENT RELEVANT---\n",
      "---GRADE: DOCUMENT RELEVANT---\n",
      "---GRADE: DOCUMENT NOT RELEVANT---\n",
      "---ASSESS GRADED DOCUMENTS---\n",
      "---DECISION: DECREASE GENERATION ATTEMPS---\n",
      "\"Node 'DOCUMENTS_FILTERATING:\"\n",
      "'\\n---\\n'\n",
      "---DECREASE_generation_attempts---\n",
      "GENERATION_ATTEMPTS: 3\n",
      "\"Node 'DECREASE_GENERATION_ATTEMPS:\"\n",
      "'\\n---\\n'\n",
      "---CHECK_Generation_ATTEMPS_NUMBER---\n",
      "---CHOOSE_NEXT_NODE_BASED_ON_GENERATION_ATTEMPS---\n",
      "---DECISION: GENERATION\n",
      "\"Node 'GENERATION_ATTEMPTS_CHECKING:\"\n",
      "'\\n---\\n'\n",
      "---GENERATE---\n",
      "---CHECK HALLUCINATION---\n",
      "---DECISION: GENERATION IS GROUNDED IN DOCUMENTS---\n",
      "---GRADE GENERATION VS QUERY\n",
      "DECISION: GENERATION ADDRESSES QUERY---\n",
      "\"Node 'GENERATION:\"\n",
      "'\\n---\\n'\n",
      "('A great character in The Lord of the Rings! Gandalf the Grey was a powerful '\n",
      " 'wizard who played a crucial role in the story. He was one of the five '\n",
      " 'Wizards sent to Middle-earth by the Valar (angelic beings) to help resist '\n",
      " \"Sauron's darkness.\\n\"\n",
      " '\\n'\n",
      " 'Gandalf was known for his wisdom, courage, and magical abilities. He was '\n",
      " 'instrumental in guiding Frodo on his quest to destroy the One Ring and was '\n",
      " 'present at many key moments throughout the story.\\n'\n",
      " '\\n'\n",
      " \"One of Gandalf's most famous moments is when he faces off against the \"\n",
      " 'Balrog, a powerful demon, in the mines of Moria. Although he is killed in '\n",
      " 'the battle, he returns as Gandalf the White, even more powerful than '\n",
      " 'before.\\n'\n",
      " '\\n'\n",
      " \"Gandalf's character was brought to life by actor Ian McKellen in the Peter \"\n",
      " 'Jackson film trilogy.')\n"
     ]
    }
   ],
   "source": [
    "inputs = {\n",
    "    QUERY : \"who is the white wizard?\",\n",
    "    CHAT_HISTORY: chat_history,\n",
    "    GENERATION_ATTEMPTS: 3,\n",
    "    QUERY_TRANSFORMATION_ATTEMPTS: 3\n",
    "}\n",
    "\n",
    "for output in app.stream(inputs):\n",
    "    for key, value in output.items():\n",
    "        pprint(f\"Node '{key}:\")\n",
    "    pprint(\"\\n---\\n\")\n",
    "    \n",
    "chat_history.append(HumanMessage(content=f'{value[QUERY]}'))\n",
    "chat_history.append(AIMessage(content=f'{value[GENERATION]}'))\n",
    "\n",
    "pprint(value[GENERATION])"
   ]
  },
  {
   "cell_type": "code",
   "execution_count": 39,
   "metadata": {},
   "outputs": [
    {
     "name": "stdout",
     "output_type": "stream",
     "text": [
      "---CHECK CHAT HISTORY RELEVANT---\n",
      "---CHOOSE NEXT NODE TO CALL BASED ON HISTORY RELEVANCY\n",
      "---DECISION: QUERY IS RELATED TO THE CHAT HISTORY---\n",
      "\"Node 'HISTORY_RELEVANT_CHECKING:\"\n",
      "'\\n---\\n'\n",
      "---CONTEXTUALIZE---\n",
      "The Fellowship of the Ring chose Moria as their route because they were trying to reach the eastern side of the Misty Mountains, which would allow them to avoid the perilous passes and valleys controlled by Sauron's forces.\n",
      "\n",
      "Gandalf had previously explored Moria and knew that it was a treacherous place, but he believed that the Fellowship could navigate its dangers and make their way through to the other side. He also hoped to find some clues or information about the location of the One Ring in Moria, as it was said to be an ancient stronghold of the dwarves.\n",
      "\n",
      "Additionally, Gandalf wanted to test the Fellowship's resolve and unity by taking them through a challenging and potentially deadly environment. He believed that if they could survive the perils of Moria, they would be better prepared for the even greater challenges that lay ahead on their quest to destroy the Ring.\n",
      "\n",
      "However, unbeknownst to the Fellowship, Gandalf had also received a warning from Radagast the Brown about the presence of the Balrog in Moria. He chose not to share this information with the others, hoping that they would be able to overcome any obstacles without his intervention.\n",
      "\"Node 'CONTEXTUALIZING:\"\n",
      "'\\n---\\n'\n",
      "---RETRIEVE---\n",
      "\"Node 'RETRIEVING:\"\n",
      "'\\n---\\n'\n",
      "---CHECK DOCUMENTS RELEVANCE TO QUERY\n",
      "---GRADE: DOCUMENT RELEVANT---\n",
      "---GRADE: DOCUMENT RELEVANT---\n",
      "---GRADE: DOCUMENT RELEVANT---\n",
      "---GRADE: DOCUMENT RELEVANT---\n",
      "---GRADE: DOCUMENT RELEVANT---\n",
      "---ASSESS GRADED DOCUMENTS---\n",
      "---DECISION: DECREASE GENERATION ATTEMPS---\n",
      "\"Node 'DOCUMENTS_FILTERATING:\"\n",
      "'\\n---\\n'\n",
      "---DECREASE_generation_attempts---\n",
      "GENERATION_ATTEMPTS: 3\n",
      "\"Node 'DECREASE_GENERATION_ATTEMPS:\"\n",
      "'\\n---\\n'\n",
      "---CHECK_Generation_ATTEMPS_NUMBER---\n",
      "---CHOOSE_NEXT_NODE_BASED_ON_GENERATION_ATTEMPS---\n",
      "---DECISION: GENERATION\n",
      "\"Node 'GENERATION_ATTEMPTS_CHECKING:\"\n",
      "'\\n---\\n'\n",
      "---GENERATE---\n",
      "---CHECK HALLUCINATION---\n",
      "---DECISION: GENERATION IS GROUNDED IN DOCUMENTS---\n",
      "---GRADE GENERATION VS QUERY\n",
      "DECISION: GENERATION ADDRESSES QUERY---\n",
      "\"Node 'GENERATION:\"\n",
      "'\\n---\\n'\n",
      "('A great question about the Lord of the Rings!\\n'\n",
      " '\\n'\n",
      " \"You're absolutely right! The Fellowship of the Ring did choose Moria as \"\n",
      " 'their route because it allowed them to avoid the perilous passes and valleys '\n",
      " \"controlled by Sauron's forces. Gandalf, who had previously explored Moria, \"\n",
      " 'knew that it was a treacherous place, but he believed that the Fellowship '\n",
      " 'could navigate its dangers and make their way through to the other side.\\n'\n",
      " '\\n'\n",
      " 'Gandalf also hoped to find some clues or information about the location of '\n",
      " 'the One Ring in Moria, as it was said to be an ancient stronghold of the '\n",
      " \"dwarves. Additionally, he wanted to test the Fellowship's resolve and unity \"\n",
      " 'by taking them through a challenging and potentially deadly environment. He '\n",
      " 'believed that if they could survive the perils of Moria, they would be '\n",
      " 'better prepared for the even greater challenges that lay ahead on their '\n",
      " 'quest to destroy the Ring.\\n'\n",
      " '\\n'\n",
      " 'However, unbeknownst to the Fellowship, Gandalf had received a warning from '\n",
      " 'Radagast the Brown about the presence of the Balrog in Moria. He chose not '\n",
      " 'to share this information with the others, hoping that they would be able to '\n",
      " 'overcome any obstacles without his intervention.\\n'\n",
      " '\\n'\n",
      " 'Well done on your knowledge of the Lord of the Rings!')\n"
     ]
    }
   ],
   "source": [
    "inputs = {\n",
    "    QUERY : \"explain to me why the fellowship choose moria way\",\n",
    "    CHAT_HISTORY: chat_history,\n",
    "    GENERATION_ATTEMPTS: 3,\n",
    "    QUERY_TRANSFORMATION_ATTEMPTS: 3\n",
    "}\n",
    "\n",
    "for output in app.stream(inputs):\n",
    "    for key, value in output.items():\n",
    "        pprint(f\"Node '{key}:\")\n",
    "    pprint(\"\\n---\\n\")\n",
    "    \n",
    "chat_history.append(HumanMessage(content=f'{value[QUERY]}'))\n",
    "chat_history.append(AIMessage(content=f'{value[GENERATION]}'))\n",
    "\n",
    "pprint(value[GENERATION])"
   ]
  }
 ],
 "metadata": {
  "kernelspec": {
   "display_name": "base",
   "language": "python",
   "name": "python3"
  },
  "language_info": {
   "codemirror_mode": {
    "name": "ipython",
    "version": 3
   },
   "file_extension": ".py",
   "mimetype": "text/x-python",
   "name": "python",
   "nbconvert_exporter": "python",
   "pygments_lexer": "ipython3",
   "version": "3.12.3"
  }
 },
 "nbformat": 4,
 "nbformat_minor": 2
}
