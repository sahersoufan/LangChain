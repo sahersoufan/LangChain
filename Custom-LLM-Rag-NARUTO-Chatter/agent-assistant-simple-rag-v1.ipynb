{
 "cells": [
  {
   "cell_type": "markdown",
   "metadata": {},
   "source": [
    "<dev style=\"text-align: center;\">\n",
    "    <h1><strong>NARUTO CHATTER</strong></h1>\n",
    "    <div style=\"display: flex; justify-content: center;\">\n",
    "        <img src='img1.webp'>\n",
    "    </dev>\n",
    "</dev>"
   ]
  },
  {
   "cell_type": "code",
   "execution_count": 1,
   "metadata": {},
   "outputs": [
    {
     "name": "stderr",
     "output_type": "stream",
     "text": [
      "USER_AGENT environment variable not set, consider setting it to identify your requests.\n"
     ]
    },
    {
     "data": {
      "text/plain": [
       "True"
      ]
     },
     "execution_count": 1,
     "metadata": {},
     "output_type": "execute_result"
    }
   ],
   "source": [
    "import os\n",
    "from dotenv import load_dotenv\n",
    "from langchain_text_splitters import RecursiveCharacterTextSplitter\n",
    "from langchain_community.document_loaders import WebBaseLoader, PyPDFLoader\n",
    "from langchain_chroma import Chroma\n",
    "from langchain_huggingface.embeddings import HuggingFaceEmbeddings\n",
    "from langchain.prompts import PromptTemplate\n",
    "from langchain_core.messages import AIMessage, HumanMessage\n",
    "from langchain.schema import BaseMessage\n",
    "from langchain_core.output_parsers import StrOutputParser, JsonOutputParser\n",
    "from typing import List\n",
    "from typing_extensions import TypedDict\n",
    "from langgraph.graph import END, StateGraph, START\n",
    "from langchain_core.language_models.llms import LLM\n",
    "import requests\n",
    "import json\n",
    "import re\n",
    "\n",
    "DB = \"db\"\n",
    "CHROMA_DB = \"chroma_db\"\n",
    "DB_COLLECTION_NAME = \"rag-AI-Agent-chroma\"\n",
    "EMBEDDING =  \"sentence-transformers/multi-qa-mpnet-base-dot-v1\"\n",
    "QUERY = \"query\"\n",
    "GENERATION = \"generation\"\n",
    "DOCUMENTS = \"documents\"\n",
    "DOCUMENT = \"document\"\n",
    "CHAT_HISTORY = \"chat_history\"\n",
    "QUERY_TRANSFORMATION_ATTEMPTS = \"query_transformation_attempts\"\n",
    "GENERATION_ATTEMPTS = \"generation_attempts\"\n",
    "\n",
    "load_dotenv()"
   ]
  },
  {
   "cell_type": "markdown",
   "metadata": {},
   "source": [
    "## Index"
   ]
  },
  {
   "cell_type": "code",
   "execution_count": 2,
   "metadata": {},
   "outputs": [],
   "source": [
    "urls = [\n",
    "    'https://en.wikipedia.org/wiki/Naruto',\n",
    "    'https://naruto.fandom.com/wiki/Naruto_Uzumaki'\n",
    "]"
   ]
  },
  {
   "cell_type": "code",
   "execution_count": 3,
   "metadata": {},
   "outputs": [
    {
     "name": "stdout",
     "output_type": "stream",
     "text": [
      "persistent directory does not exist, Initializing vector store...\n"
     ]
    }
   ],
   "source": [
    "current_dir = os.path.curdir\n",
    "persistence_directory = os.path.join(current_dir, DB, CHROMA_DB)\n",
    "embedding = HuggingFaceEmbeddings(model_name =EMBEDDING)\n",
    "\n",
    "if not os.path.exists(persistence_directory):\n",
    "    print(\"persistent directory does not exist, Initializing vector store...\")\n",
    "\n",
    "    docs = [WebBaseLoader(url).load() for url in urls]\n",
    "    docs_list = [item for sublist in docs for item in sublist]\n",
    "\n",
    "    text_splitter = RecursiveCharacterTextSplitter.from_tiktoken_encoder(chunk_size=800, chunk_overlap=150)\n",
    "    doc_splits = text_splitter.split_documents(docs_list)\n",
    "\n",
    "    db = Chroma.from_documents(\n",
    "        documents=doc_splits,\n",
    "        collection_name=DB_COLLECTION_NAME,\n",
    "        embedding=embedding,\n",
    "        persist_directory=persistence_directory\n",
    "    )\n",
    "    \n",
    "else:\n",
    "    db = Chroma(persist_directory=persistence_directory, embedding_function=embedding, collection_name=DB_COLLECTION_NAME)\n",
    "\n",
    "\n",
    "\n",
    "retriever = db.as_retriever(search_type='similarity', search_kwargs={'k':3})"
   ]
  },
  {
   "cell_type": "markdown",
   "metadata": {},
   "source": [
    "## LLM"
   ]
  },
  {
   "cell_type": "markdown",
   "metadata": {},
   "source": [
    "##### Lama-3.1-8B-Instruct-ustom"
   ]
  },
  {
   "cell_type": "code",
   "execution_count": 4,
   "metadata": {},
   "outputs": [],
   "source": [
    "class llm_model(LLM):\n",
    "\n",
    "    api_key: str = os.getenv(\"CUSTOM_LLM_API_KEY\")\n",
    "    llm_uri: str = os.getenv(\"CUSTOM_LLM_URI\")\n",
    "    temperature: float = 0.0\n",
    "    top_p: float = 0.9\n",
    "    max_tokens: int = 512\n",
    "        \n",
    "    @property\n",
    "    def _llm_type(self) -> str:\n",
    "        return \"custom-llm-model\"\n",
    "    \n",
    "    def _call(self, prompt: str, stop):\n",
    "\n",
    "        payloads = {\n",
    "            \"prompt\": prompt,\n",
    "            \"temperature\": self.temperature,\n",
    "            \"top_p\": self.top_p,\n",
    "            \"max_tokens\": self.max_tokens,\n",
    "        }\n",
    "\n",
    "        headers = {\n",
    "            \"Content-Type\": \"application/json\",\n",
    "            \"X-API-KEY\": self.api_key\n",
    "        }\n",
    "\n",
    "        response = requests.post(self.llm_uri, json=payloads, headers=headers)\n",
    "        if response.status_code != 200:\n",
    "            raise Exception(f\"Request failed with status {response.status_code}: {response.text}\")\n",
    "        result = response.json().get(\"generate_text\", \"---NO_GENERATED_TEXT---\")\n",
    "        pattern = r'\\n\\s*\\n\\s*assistant\\s*\\n'\n",
    "        matches = list(re.finditer(pattern, result, re.DOTALL))\n",
    "        if matches:\n",
    "            last_match = matches[-1]\n",
    "            extracted = result[last_match.end():]\n",
    "            return extracted\n",
    "        else:\n",
    "            print(\"Pattern not found\")\n",
    "            raise Exception(\"---FAILED TO RETRIEVE THE PATTERN FROM LLM RESPONSE---\")\n"
   ]
  },
  {
   "cell_type": "markdown",
   "metadata": {},
   "source": [
    "##### Query Retreiving Grader"
   ]
  },
  {
   "cell_type": "code",
   "execution_count": 5,
   "metadata": {},
   "outputs": [],
   "source": [
    "llm_query_retreiver_grader = llm_model(temperature=0.3)\n",
    "\n",
    "prompt_query_retrieving_grader = PromptTemplate(\n",
    "    template=\"\"\"\n",
    "        <|begin_of_text|>\n",
    "        <|start_header_id|>system<|end_header_id|>\n",
    "        You are a query evaluator. Given the current query or task, assess its relevance to the historical context or previous interactions.\n",
    "        \n",
    "        Rules:\n",
    "        - If `chat_history` is empty, classify the query as \"unrelated\" (there is no context).\n",
    "        - If the query is independent and has no direct connection to the historical context, classify it as \"unrelated\".\n",
    "        - If the query builds upon or references the historical context, or is solely about recalling past conversations, classify it as \"history\".\n",
    "        - If the relationship between the query and the historical context is unclear, classify it as \"ambiguous\".\n",
    "        \n",
    "        Respond only with a JSON object containing a single key \"next_node\". Do not include any additional text or explanation.\n",
    "        Output format: {{\"next_node\": \"unrelated\"}} or {{\"next_node\": \"history\"}} or {{\"next_node\": \"ambiguous\"}}\n",
    "        <|eot_id|>\n",
    "        \n",
    "        <|start_header_id|>user<|end_header_id|>\n",
    "        Chat_history: {chat_history}\n",
    "        Query: {query}\n",
    "        <|eot_id|>\n",
    "        \n",
    "        <|start_header_id|>assistant<|end_header_id|>\n",
    "        \n",
    "    \"\"\".strip(), input_variables=[QUERY, CHAT_HISTORY]\n",
    ")\n",
    "\n",
    "query_retreiver_grader = prompt_query_retrieving_grader | llm_query_retreiver_grader | JsonOutputParser()"
   ]
  },
  {
   "cell_type": "markdown",
   "metadata": {},
   "source": [
    "##### History Query Relevence Grader"
   ]
  },
  {
   "cell_type": "code",
   "execution_count": 6,
   "metadata": {},
   "outputs": [],
   "source": [
    "llm_history_query_grader = llm_model(temperature=0.3)\n",
    "\n",
    "prompt_history_query_grader = PromptTemplate(\n",
    "    template=\"\"\"\n",
    "        <|begin_of_text|>\n",
    "        <|start_header_id|>system<|end_header_id|>\n",
    "        You are a query evaluator. Given the current query or task, determine whether the query is solely about recalling past conversations or if it builds upon the historical context with new elements.\n",
    "        \n",
    "        Rules:\n",
    "        - If the query is solely about recalling past conversations without introducing new topics, classify it as \"history_only\".\n",
    "        - If the query builds upon or references the historical context with new elements, classify it as \"related\".\n",
    "        \n",
    "        Respond only with a JSON object containing a single key \"next_node\". Do not include any additional text or explanation.\n",
    "        Output format: {{\"next_node\": \"history_only\"}} or {{\"next_node\": \"related\"}}\n",
    "        <|eot_id|>\n",
    "        \n",
    "        <|start_header_id|>user<|end_header_id|>\n",
    "        Chat_history: {chat_history}\n",
    "        Query: {query}\n",
    "        <|eot_id|>\n",
    "        \n",
    "        <|start_header_id|>assistant<|end_header_id|>\n",
    "        \n",
    "    \"\"\".strip(), input_variables=[QUERY, CHAT_HISTORY]\n",
    ")\n",
    "\n",
    "history_query_grader = prompt_history_query_grader | llm_history_query_grader | JsonOutputParser()"
   ]
  },
  {
   "cell_type": "markdown",
   "metadata": {},
   "source": [
    "##### History Only Responder"
   ]
  },
  {
   "cell_type": "code",
   "execution_count": 7,
   "metadata": {},
   "outputs": [],
   "source": [
    "llm_history_responder = llm_model(temperature=0.3)\n",
    "\n",
    "prompt_history_responder = PromptTemplate(\n",
    "    template=\"\"\"\n",
    "        <|begin_of_text|>\n",
    "        <|start_header_id|>system<|end_header_id|>\n",
    "        The user is inquiring about past conversations they've had.\n",
    "\n",
    "        Your task is to summarize the relevant past interactions clearly and concisely.\n",
    "        Make sure the user feels acknowledged and that their past input is respected.\n",
    "        Example responses:\n",
    "        - \"Previously, you mentioned that...\"\n",
    "        - \"In our last conversation, you discussed...\"\n",
    "        - \"You asked about X before, and here's what was covered...\"\n",
    "\n",
    "        Be polite and ensure the response is reflective of the user's past contributions.\n",
    "        <|eot_id|>\n",
    "\n",
    "        <|start_header_id|>user<|end_header_id|>\n",
    "        Chat_history: {chat_history}\n",
    "        Query: {query}\n",
    "        <|eot_id|>\n",
    "\n",
    "        <|start_header_id|>assistant<|end_header_id|>\n",
    "        \n",
    "    \"\"\".strip(), input_variables=[QUERY, CHAT_HISTORY]\n",
    ")\n",
    "\n",
    "history_responder = prompt_history_responder | llm_history_responder | StrOutputParser()"
   ]
  },
  {
   "cell_type": "markdown",
   "metadata": {},
   "source": [
    "#### Ambiguous responder"
   ]
  },
  {
   "cell_type": "code",
   "execution_count": 8,
   "metadata": {},
   "outputs": [],
   "source": [
    "llm_ambiguous_responder = llm_model(temperature=0.3)\n",
    "\n",
    "prompt_ambiguous_responder = PromptTemplate(\n",
    "    template=\"\"\"\n",
    "        <|begin_of_text|>\n",
    "        <|start_header_id|>system<|end_header_id|>\n",
    "        The current query or task has been determined to have an ambiguous relationship with the historical context.\n",
    "        As the \"ambiguous_responder,\" provide a clear and helpful response to the user that acknowledges the ambiguity and offers guidance.\n",
    "        The response should be polite and suggest next steps or clarifications to help resolve the uncertainty. For example:\n",
    "        \"It seems there’s some uncertainty about the relevance of this query to previous information. Could you please provide more context or clarify your request?\"\n",
    "        \"I'm not entirely sure how this query relates to prior context. Can you help me understand the connection better?\"\n",
    "        \"The relationship between the current task and previous data isn't fully clear. Can you give me more details?\"\n",
    "        Your goal is to help the user refine their query or provide further context, ensuring they feel supported despite the ambiguity.\n",
    "        <|eot_id|>\n",
    "\n",
    "        <|start_header_id|>user<|end_header_id|>\n",
    "        Chat_history: {chat_history}\n",
    "        Query: {query}\n",
    "        <|eot_id|>\n",
    "\n",
    "        <|start_header_id|>assistant<|end_header_id|>\n",
    "    \"\"\".strip(), input_variables=[QUERY]\n",
    ")\n",
    "\n",
    "ambiguous_responder = prompt_ambiguous_responder | llm_ambiguous_responder | StrOutputParser()"
   ]
  },
  {
   "cell_type": "markdown",
   "metadata": {},
   "source": [
    "##### Retriever Grader"
   ]
  },
  {
   "cell_type": "code",
   "execution_count": 9,
   "metadata": {},
   "outputs": [],
   "source": [
    "llm_retriever_grader = llm_model(temperature=0.3)\n",
    "\n",
    "prompt_retriever_grader = PromptTemplate(\n",
    "    template=\"\"\"\n",
    "        <|begin_of_text|>\n",
    "        <|start_header_id|>system<|end_header_id|>\n",
    "        You are a grader assessing the relevance of a retrieved document to a user query.\n",
    "        Assess whether the content of the document effectively addresses the user's intent.\n",
    "        Respond only with a JSON object containing a single key 'score' with a value of 'yes' or 'no'. Do not include any additional text or explanation.\n",
    "        Output format: `{{\"score\": \"yes\"}}` or `{{\"score\": \"no\"}}`\n",
    "        <|eot_id|>\n",
    "        \n",
    "        <|start_header_id|>user<|end_header_id|>\n",
    "        Here is the retrieved document:\n",
    "        {document}\n",
    "        Query:\n",
    "        {query}\n",
    "        <|eot_id|>\n",
    "        \n",
    "        <|start_header_id|>assistant<|end_header_id|>\n",
    "\n",
    "\"\"\".strip(),\n",
    "    input_variables=[QUERY, DOCUMENT],\n",
    ")\n",
    "\n",
    "retriever_grader = prompt_retriever_grader | llm_retriever_grader | JsonOutputParser()"
   ]
  },
  {
   "cell_type": "markdown",
   "metadata": {},
   "source": [
    "##### Query Re-writer"
   ]
  },
  {
   "cell_type": "code",
   "execution_count": 10,
   "metadata": {},
   "outputs": [],
   "source": [
    "llm_query_rewriter = llm_model(temperature=0.3)\n",
    "\n",
    "prompt_query_rewriter = PromptTemplate(\n",
    "    template=\"\"\"\n",
    "        <|begin_of_text|>\n",
    "        <|start_header_id|>system<|end_header_id|>\n",
    "        You are a query re-writer tasked with improving the input query for better vectorstore retrieval performance.\n",
    "        Your goal is to reformulate the query in a way that enhances its clarity, relevance, and retrieval accuracy, making it more suitable for the vector-based search system.\n",
    "        Please provide an improved version of the query that is optimized for vectorstore retrieval, without any preamble or explanation.\n",
    "        <|eot_id|>\n",
    "\n",
    "        <|start_header_id|>user<|end_header_id|>\n",
    "        Query: {query}\n",
    "        <|eot_id|>\n",
    "\n",
    "        <|start_header_id|>assistant<|end_header_id|>\n",
    "        \n",
    "    \"\"\".strip(),\n",
    "    input_variables=[QUERY],\n",
    ")\n",
    "\n",
    "query_rewriter = prompt_query_rewriter | llm_query_rewriter | StrOutputParser()"
   ]
  },
  {
   "cell_type": "markdown",
   "metadata": {},
   "source": [
    "##### Contextualizer"
   ]
  },
  {
   "cell_type": "code",
   "execution_count": 11,
   "metadata": {},
   "outputs": [],
   "source": [
    "llm_contextualizer = llm_model(temperature=0.3)\n",
    "\n",
    "prompt_contextualizer = PromptTemplate(\n",
    "    template=\"\"\"\n",
    "        <|begin_of_text|>\n",
    "        <|start_header_id|>system<|end_header_id|>\n",
    "        You are an AI that reformulates user queries based on chat history to make them standalone.\n",
    "        Your task is to resolve references, pronouns, and vague descriptions using prior interactions.\n",
    "        Ensure the reformulated question is clear, precise, and contains all necessary details for retrieval. \n",
    "        If no relevant context exists in the chat history, return the question as is. \n",
    "        Do NOT explain, introduce, or provide reasoning—just return the reformulated query with NO preamble.\n",
    "        <|eot_id|>\n",
    "\n",
    "        <|start_header_id|>user<|end_header_id|>\n",
    "        Chat_history: {chat_history}\n",
    "        Query: {query}\n",
    "        <|eot_id|>\n",
    "        \n",
    "        <|start_header_id|>assistant<|end_header_id|>\n",
    "\n",
    "    \"\"\".strip(), input_variables=[QUERY, CHAT_HISTORY]\n",
    ")\n",
    "\n",
    "contextualizer = prompt_contextualizer | llm_contextualizer | StrOutputParser()"
   ]
  },
  {
   "cell_type": "markdown",
   "metadata": {},
   "source": [
    "##### Generater"
   ]
  },
  {
   "cell_type": "code",
   "execution_count": 12,
   "metadata": {},
   "outputs": [],
   "source": [
    "llm_generator = llm_model(temperature=0.3)\n",
    "\n",
    "prompt_generator = PromptTemplate(\n",
    "    template=\"\"\"\n",
    "        <|begin_of_text|>\n",
    "        <|start_header_id|>system<|end_header_id|>\n",
    "        You are an assistant tasked with answering queries related to Naruto Anime.\n",
    "        If the answer is available in the documents, provide a concise and clear response starting with:        \n",
    "        If the answer is not found in the documents, simply say:\n",
    "        \"I don't know.\"\n",
    "        Always end your response with:\n",
    "        Ensure your answer is concise, clear, and informative, without being overly brief.\n",
    "        <|eot_id|>\n",
    "\n",
    "        <|start_header_id|>user<|end_header_id|>\n",
    "        Use the following pieces of documents to formulate your response.\n",
    "        Documents: {documents}\n",
    "        The following is the chat history\n",
    "        Chat_history: {chat_history}\n",
    "        Query: {query}\n",
    "        <|eot_id|>\n",
    "\n",
    "        <|start_header_id|>assistant<|end_header_id|>\n",
    "\n",
    "\"\"\".strip(), input_variables=[DOCUMENTS, CHAT_HISTORY, QUERY])\n",
    "\n",
    "\n",
    "generator = prompt_generator | llm_generator | StrOutputParser()"
   ]
  },
  {
   "cell_type": "markdown",
   "metadata": {},
   "source": [
    "##### Hallucination Grader"
   ]
  },
  {
   "cell_type": "code",
   "execution_count": 13,
   "metadata": {},
   "outputs": [],
   "source": [
    "llm_hallucination_grader = llm_model(temperature=0.3)\n",
    "\n",
    "hallucination_grader_prompt = PromptTemplate(\n",
    "    template=\"\"\"\n",
    "        <|begin_of_text|>\n",
    "        <|start_header_id|>system<|end_header_id|>\n",
    "        You are a grader tasked with assessing whether the provided answer is grounded in or supported by the given set of facts.\n",
    "\n",
    "        Please provide a binary score:\n",
    "        'yes' if the answer is supported by the facts.\n",
    "        'no' if the answer is not supported by the facts.\n",
    "        \n",
    "        Return the score in JSON format with the key 'score', without any explanation or additional commentary.\n",
    "        <|eot_id|>\n",
    "\n",
    "        <|start_header_id|>user<|end_header_id|>\n",
    "        Facts: {documents}\n",
    "        Answer: {generation}\n",
    "        <|eot_id|>\n",
    "\n",
    "        <|start_header_id|>assistant<|end_header_id|>\n",
    "        \n",
    "    \"\"\".strip(),\n",
    "    input_variables=[GENERATION, DOCUMENTS],\n",
    ")\n",
    "\n",
    "hallucination_grader = hallucination_grader_prompt | llm_hallucination_grader | JsonOutputParser()"
   ]
  },
  {
   "cell_type": "markdown",
   "metadata": {},
   "source": [
    "##### Answer Grader"
   ]
  },
  {
   "cell_type": "code",
   "execution_count": 14,
   "metadata": {},
   "outputs": [],
   "source": [
    "llm_answer_grader = llm_model(temperature=0.3)\n",
    "\n",
    "answer_grader_prompt = PromptTemplate(\n",
    "    template=\"\"\"\n",
    "        <|begin_of_text|>\n",
    "        <|start_header_id|>system<|end_header_id|>\n",
    "        you are a grader tasked with evaluating whether the provided answer is useful in resolving the given query.\n",
    "\n",
    "        Please provide a binary score:\n",
    "        'yes' if the answer is useful in resolving the question.\n",
    "        'no' if the answer is not useful.\n",
    "        \n",
    "        Return the score in JSON format with the key 'score', without any explanation or additional commentary.\n",
    "        <|eot_id|>\n",
    "\n",
    "        <|start_header_id|>user<|end_header_id|>\n",
    "        Answer:{generation}\n",
    "        Query: {query}\n",
    "        <|eot_id|>\n",
    "\n",
    "        <|start_header_id|>assistant<|end_header_id|>\n",
    "        \n",
    "    \"\"\".strip(),\n",
    "    input_variables=[GENERATION, QUERY],\n",
    ")\n",
    "\n",
    "answer_grader = answer_grader_prompt | llm_answer_grader | JsonOutputParser()"
   ]
  },
  {
   "cell_type": "markdown",
   "metadata": {},
   "source": [
    "## Graph State"
   ]
  },
  {
   "cell_type": "code",
   "execution_count": 15,
   "metadata": {},
   "outputs": [],
   "source": [
    "class GraphState(TypedDict):\n",
    "    \"\"\"\n",
    "    Represent the state of the graph\n",
    "\n",
    "    Attributes:\n",
    "        query: query\n",
    "        generation: LLM generation\n",
    "        documents: list of documents\n",
    "        chat_history: chat history\n",
    "        attempts: number of attempts\n",
    "    \"\"\"\n",
    "\n",
    "    query: str\n",
    "    generation: str\n",
    "    documents: List[str]\n",
    "    chat_history: List[str]\n",
    "    query_transformation_attempts: int\n",
    "    generation_attempts: int"
   ]
  },
  {
   "cell_type": "markdown",
   "metadata": {},
   "source": [
    "## Graph Details"
   ]
  },
  {
   "cell_type": "markdown",
   "metadata": {},
   "source": [
    "### Nodes"
   ]
  },
  {
   "cell_type": "markdown",
   "metadata": {},
   "source": [
    "#### Query Retreiving Check Node"
   ]
  },
  {
   "cell_type": "code",
   "execution_count": 16,
   "metadata": {},
   "outputs": [],
   "source": [
    "def check_query_retreiving(state):\n",
    "    \"\"\"\n",
    "    Check query retreiving\n",
    "    Args:\n",
    "        state (dict): The current graph state\n",
    "    Returns:\n",
    "        state (dict): Return query and chat_history\n",
    "    \"\"\"\n",
    "\n",
    "    print(\"---CHECK QUERY RETREIVING---\")\n",
    "    return state"
   ]
  },
  {
   "cell_type": "markdown",
   "metadata": {},
   "source": [
    "#### History Relevant Check Node"
   ]
  },
  {
   "cell_type": "code",
   "execution_count": 17,
   "metadata": {},
   "outputs": [],
   "source": [
    "def check_history_relevant(state):\n",
    "    \"\"\"\n",
    "    Check history relevant\n",
    "\n",
    "    Args:\n",
    "        state (dict): The current graph state\n",
    "    Returns:\n",
    "        state (dict): Return query and chat_history\n",
    "    \"\"\"\n",
    "\n",
    "    print(\"---CHECK CHAT HISTORY RELEVANT---\")\n",
    "    return state"
   ]
  },
  {
   "cell_type": "markdown",
   "metadata": {},
   "source": [
    "#### Contextualize Node"
   ]
  },
  {
   "cell_type": "code",
   "execution_count": 18,
   "metadata": {},
   "outputs": [],
   "source": [
    "def contextualize(state):\n",
    "    \"\"\"\n",
    "    Contextualize query\n",
    "\n",
    "    Args:\n",
    "        state (dict): the current graph state\n",
    "    Returns:\n",
    "        state (dict): Update the query based on chat history\n",
    "    \"\"\"\n",
    "\n",
    "    print(\"---CONTEXTUALIZE---\")\n",
    "    query = state[QUERY]\n",
    "    chat_history = state[CHAT_HISTORY]\n",
    "\n",
    "    contextualized_query = contextualizer.invoke(\n",
    "        {\n",
    "            QUERY: query,\n",
    "            CHAT_HISTORY: chat_history\n",
    "        }\n",
    "    )\n",
    "    print(contextualized_query)\n",
    "    state[QUERY] = contextualized_query\n",
    "    return state"
   ]
  },
  {
   "cell_type": "markdown",
   "metadata": {},
   "source": [
    "#### Retrieve Node"
   ]
  },
  {
   "cell_type": "code",
   "execution_count": 19,
   "metadata": {},
   "outputs": [],
   "source": [
    "def retrieve(state):\n",
    "    \"\"\"\n",
    "    Retrieve documents\n",
    "\n",
    "    Args:\n",
    "        state (dict): The current graph state\n",
    "    Returns:\n",
    "        state (dict): New key added to state, documents, that contains retrieved documents\n",
    "    \"\"\"\n",
    "\n",
    "    print(\"---RETRIEVE---\")\n",
    "    query = state[QUERY]\n",
    "\n",
    "    documents = retriever.invoke(query)\n",
    "    state[DOCUMENTS] = documents\n",
    "    return state"
   ]
  },
  {
   "cell_type": "markdown",
   "metadata": {},
   "source": [
    "#### Filterate Documents"
   ]
  },
  {
   "cell_type": "code",
   "execution_count": 20,
   "metadata": {},
   "outputs": [],
   "source": [
    "def filterate_documents(state):\n",
    "    \"\"\"\n",
    "    Fitlerate relveant documetns\n",
    "\n",
    "    Args:\n",
    "        state (dict): The current state graph\n",
    "    Returns:\n",
    "        state (dict): State with updaed documetns\n",
    "    \"\"\"\n",
    "    print(\"---CHECK DOCUMENTS RELEVANCE TO QUERY---\")\n",
    "    query = state[QUERY]\n",
    "    documents = state[DOCUMENTS]\n",
    "\n",
    "    filtered_docs = []\n",
    "    for d in documents:\n",
    "        score = retriever_grader.invoke(\n",
    "            {\n",
    "                QUERY: query,\n",
    "                DOCUMENT: d\n",
    "            }\n",
    "        )\n",
    "\n",
    "        grade = score[\"score\"]\n",
    "        if grade == 'yes':\n",
    "            print(\"---GRADE: DOCUMENT RELEVANT---\")\n",
    "            filtered_docs.append(d)\n",
    "        else:\n",
    "            print(\"---GRADE: DOCUMENT NOT RELEVANT---\")\n",
    "            continue\n",
    "    \n",
    "    state[DOCUMENTS] = filtered_docs\n",
    "    return state"
   ]
  },
  {
   "cell_type": "markdown",
   "metadata": {},
   "source": [
    "#### History Only Responder"
   ]
  },
  {
   "cell_type": "code",
   "execution_count": 21,
   "metadata": {},
   "outputs": [],
   "source": [
    "def history_only_respond(state):\n",
    "    \"\"\"\n",
    "    Generate history only answer\n",
    "\n",
    "    Args:\n",
    "        state (dict): The current graph state\n",
    "    Returns:\n",
    "        state (dict): new key added to state, that contains LLM generation for history only\n",
    "    \"\"\"\n",
    "\n",
    "    print(\"---GENERATE HISTORY ONLY ANSWER---\")\n",
    "    query = state[QUERY]\n",
    "    chat_history = state[CHAT_HISTORY]\n",
    "    \n",
    "    history_only_generation = history_responder.invoke(\n",
    "        {\n",
    "            QUERY: query,\n",
    "            CHAT_HISTORY: chat_history\n",
    "        }\n",
    "    )\n",
    "    state[GENERATION] = history_only_generation\n",
    "    return state"
   ]
  },
  {
   "cell_type": "markdown",
   "metadata": {},
   "source": [
    "#### Ambiguous Responder Node"
   ]
  },
  {
   "cell_type": "code",
   "execution_count": 22,
   "metadata": {},
   "outputs": [],
   "source": [
    "def ambiguous_respond(state):\n",
    "    \"\"\"\n",
    "    Generate ambiguity anwer\n",
    "\n",
    "    Args:\n",
    "        state (dict): The current graph state\n",
    "    Returns:\n",
    "        state (dict): new key added to state, that contains LLM generation for ambiguity\n",
    "    \"\"\"\n",
    "\n",
    "    print(\"---GENERATE AMBIGUITY ANSWER---\")\n",
    "    query = state[QUERY]\n",
    "    chat_history = state[CHAT_HISTORY]\n",
    "    \n",
    "    ambiguity_generation = ambiguous_responder.invoke(\n",
    "        {\n",
    "            QUERY: query,\n",
    "            CHAT_HISTORY: chat_history\n",
    "        }\n",
    "    )\n",
    "    state[GENERATION] = ambiguity_generation\n",
    "    return state"
   ]
  },
  {
   "cell_type": "markdown",
   "metadata": {},
   "source": [
    "#### Decrease Query Transformation Attemtps Node"
   ]
  },
  {
   "cell_type": "code",
   "execution_count": 23,
   "metadata": {},
   "outputs": [],
   "source": [
    "def decrease_query_transformation_attempts(state):\n",
    "    \"\"\"\n",
    "    Decrease the attempts of query transformation\n",
    "\n",
    "    Args:\n",
    "        state (dict): The current state\n",
    "    Returns:\n",
    "        state (dic): Increase the number of query_transformation_attempts\n",
    "    \"\"\"\n",
    "\n",
    "    print(f'---DECREASE_{QUERY_TRANSFORMATION_ATTEMPTS}---')\n",
    "    attempts = state[QUERY_TRANSFORMATION_ATTEMPTS]\n",
    "    if attempts== 0:\n",
    "        print(f'QUERY_TRANSFORMATION_ATTEMPTS: {attempts}')\n",
    "        return state\n",
    "    else:\n",
    "        state[QUERY_TRANSFORMATION_ATTEMPTS]=attempts-1\n",
    "        print(f'QUERY_TRANSFORMATION_ATTEMPTS: {attempts}')\n",
    "        return state"
   ]
  },
  {
   "cell_type": "markdown",
   "metadata": {},
   "source": [
    "#### Query Transformtion Attempts Checking Node"
   ]
  },
  {
   "cell_type": "code",
   "execution_count": 24,
   "metadata": {},
   "outputs": [],
   "source": [
    "def check_query_transformation_attempts(state):\n",
    "    \"\"\"\n",
    "    Check the number of query transformation attempts.\n",
    "\n",
    "    Args:\n",
    "        state (dict): The current state graph\n",
    "    Returns:\n",
    "        state (dict): The current state graph.\n",
    "    \"\"\"\n",
    "\n",
    "    print(\"---CHECK_QUERY_TRANSFORAMTION_ATTEMPS_NUMBER---\")\n",
    "    return state"
   ]
  },
  {
   "cell_type": "markdown",
   "metadata": {},
   "source": [
    "#### Transform Query Node"
   ]
  },
  {
   "cell_type": "code",
   "execution_count": 25,
   "metadata": {},
   "outputs": [],
   "source": [
    "def transform_query(state):\n",
    "    \"\"\"\n",
    "    Transform the query to produce a better question.\n",
    "\n",
    "    Args:\n",
    "        state (dict): The current state\n",
    "    Returns:\n",
    "        state (dict): Updates query key with a re-phrased query\n",
    "    \"\"\"\n",
    "\n",
    "    print(\"---TRANSFORM QUERY---\")\n",
    "    query = state[QUERY]\n",
    "\n",
    "    better_query = query_rewriter.invoke({\n",
    "        QUERY:query\n",
    "    })\n",
    "\n",
    "    state[QUERY] = better_query\n",
    "    print(\"TRANSFORMED_QUERY: \", better_query)\n",
    "    return state"
   ]
  },
  {
   "cell_type": "markdown",
   "metadata": {},
   "source": [
    "#### Decrease Generation Attemtps Node"
   ]
  },
  {
   "cell_type": "code",
   "execution_count": 26,
   "metadata": {},
   "outputs": [],
   "source": [
    "def decrease_generation_attempts(state):\n",
    "    \"\"\"\n",
    "    Decrease the attempts of generation\n",
    "\n",
    "    Args:\n",
    "        state (dict): The current state\n",
    "    Returns:\n",
    "        state (dic): Increase the number of generation_attempts\n",
    "    \"\"\"\n",
    "\n",
    "    print(f'---DECREASE_{GENERATION_ATTEMPTS}---')\n",
    "    attempts = state[GENERATION_ATTEMPTS]\n",
    "    if attempts == 0:\n",
    "        print(f'GENERATION_ATTEMPTS: {attempts}')\n",
    "        return state\n",
    "    else:\n",
    "        state[GENERATION_ATTEMPTS]= attempts - 1\n",
    "        print(f'GENERATION_ATTEMPTS: {attempts}')\n",
    "        return state"
   ]
  },
  {
   "cell_type": "markdown",
   "metadata": {},
   "source": [
    "#### Generation Attempts Checking Node"
   ]
  },
  {
   "cell_type": "code",
   "execution_count": 27,
   "metadata": {},
   "outputs": [],
   "source": [
    "def check_generation_attempts(state):\n",
    "    \"\"\"\n",
    "    Check the number of generation attempts.\n",
    "\n",
    "    Args:\n",
    "        state (dict): The current state graph\n",
    "    Returns:\n",
    "        state (dict): The current state graph.\n",
    "    \"\"\"\n",
    "\n",
    "    print(\"---CHECK_Generation_ATTEMPS_NUMBER---\")\n",
    "    return state"
   ]
  },
  {
   "cell_type": "markdown",
   "metadata": {},
   "source": [
    "#### Generate Node"
   ]
  },
  {
   "cell_type": "code",
   "execution_count": 28,
   "metadata": {},
   "outputs": [],
   "source": [
    "def generate(state):\n",
    "    \"\"\"\n",
    "    Generate answer\n",
    "\n",
    "    Args:\n",
    "        state (dict): the current graph state\n",
    "    Returns:\n",
    "        state (dict): new key added to state, that contains LLM generation\n",
    "    \"\"\"\n",
    "\n",
    "    print(\"---GENERATE---\")\n",
    "    query = state[QUERY]\n",
    "    documents = state[DOCUMENTS]\n",
    "    chat_history = state[CHAT_HISTORY]\n",
    "\n",
    "    generation = generator.invoke(\n",
    "        {\n",
    "            DOCUMENTS: documents,\n",
    "            CHAT_HISTORY: chat_history,\n",
    "            QUERY: query\n",
    "        }\n",
    "    )\n",
    "    state[GENERATION] = generation\n",
    "    return state"
   ]
  },
  {
   "cell_type": "markdown",
   "metadata": {},
   "source": [
    "#### Not Support Node"
   ]
  },
  {
   "cell_type": "code",
   "execution_count": 29,
   "metadata": {},
   "outputs": [],
   "source": [
    "def get_not_support_state(state):\n",
    "    \"\"\"\n",
    "    get not support state\n",
    "\n",
    "    Args:\n",
    "        state (dict): the current graph state\n",
    "    Returns:\n",
    "        state (dict): Not support state Data\n",
    "    \"\"\"\n",
    "\n",
    "    print(\"---COULD NOT DO IT---\")\n",
    "    generation = \"I could not do it, Please try again.\" #TODO need to Change\n",
    "\n",
    "    state[GENERATION] = generation\n",
    "    return state"
   ]
  },
  {
   "cell_type": "markdown",
   "metadata": {},
   "source": [
    "### Edges"
   ]
  },
  {
   "cell_type": "markdown",
   "metadata": {},
   "source": [
    "##### Decide Node to Call Based on Query Retreive Grade"
   ]
  },
  {
   "cell_type": "code",
   "execution_count": 30,
   "metadata": {},
   "outputs": [],
   "source": [
    "def decide_node_to_call_based_on_query_retreive_grade(state):\n",
    "    \"\"\"\n",
    "    Determines whether to move to 'Retrive', 'History\" or Ambiguous'\n",
    "\n",
    "    Args:\n",
    "        state (dict): The current graph state\n",
    "    Returns:\n",
    "        'Retrive', 'History\" or ambiguous' for next code to call\n",
    "    \"\"\"\n",
    "\n",
    "    print(\"---CHOOSE NEXT NODE TO CALL BASED ON QUERY RETREIVE GRADE---\")\n",
    "    query = state[QUERY]\n",
    "    chat_history = state[CHAT_HISTORY]\n",
    "\n",
    "    grade = query_retreiver_grader.invoke(\n",
    "        {\n",
    "            QUERY: query,\n",
    "            CHAT_HISTORY: chat_history\n",
    "        }\n",
    "    )\n",
    "\n",
    "    next_node = grade['next_node']\n",
    "    if next_node == 'unrelated':\n",
    "        print(\"---DECISION: QUERY IS NOT RELATED TO THE CHAT HISTORY---\")\n",
    "        return 'UNRELATED'\n",
    "    elif next_node == 'history':\n",
    "        print(\"---DECISION: QUERY IS RELATED TO THE CHAT HISTORY---\")\n",
    "        return 'HISTORY'\n",
    "    elif next_node == 'ambiguous':\n",
    "        print(\"---DECISION: QUERY IS AMBIGUOUS\")\n",
    "        return 'AMBIGUOUS'"
   ]
  },
  {
   "cell_type": "markdown",
   "metadata": {},
   "source": [
    "#### Decide Node to Call Based on History Relevance"
   ]
  },
  {
   "cell_type": "code",
   "execution_count": 31,
   "metadata": {},
   "outputs": [],
   "source": [
    "def decide_node_to_call_based_on_history_relevancy(state):\n",
    "    \"\"\"\n",
    "    Determines whether to move to 'Retrive', 'Contextualize\"\n",
    "\n",
    "    Args:\n",
    "        state (dict): The current graph state\n",
    "    Returns:\n",
    "        'Retrive', 'Contextualize\" for next code to call\n",
    "    \"\"\"\n",
    "\n",
    "    print(\"---CHOOSE NEXT NODE TO CALL BASED ON HISTORY RELEVANCY\")\n",
    "    query = state[QUERY]\n",
    "    chat_history = state[CHAT_HISTORY]\n",
    "\n",
    "    grade = history_query_grader.invoke(\n",
    "        {\n",
    "            QUERY: query,\n",
    "            CHAT_HISTORY: chat_history\n",
    "        }\n",
    "    )\n",
    "\n",
    "    next_node = grade['next_node']\n",
    "    if next_node == 'related':\n",
    "        print(\"---DECISION: QUERY IS RELATED TO THE CHAT HISTORY---\")\n",
    "        return 'RELATED'\n",
    "    elif next_node == 'history_only':\n",
    "        print(\"---DECISION: QUERY IS RELATED ONLY TO HISTORY---\")\n",
    "        return 'HISTORY_ONLY'"
   ]
  },
  {
   "cell_type": "markdown",
   "metadata": {},
   "source": [
    "#### Check Query Transfomration Attempts Number"
   ]
  },
  {
   "cell_type": "code",
   "execution_count": 32,
   "metadata": {},
   "outputs": [],
   "source": [
    "def choose_next_call_based_on_query_transformation_attempts(state):\n",
    "    \"\"\"\n",
    "    Check the number of query transformation attempts, if equal zero,\n",
    "    and return the next node to call based on that.\n",
    "\n",
    "    Args:\n",
    "        state (dict): The current state graph\n",
    "    Returns:\n",
    "        Next node to call\n",
    "    \"\"\"\n",
    "\n",
    "    print(\"---CHOOSE_NEXT_NODE_BASED_ON_QUERY_TRANSFORMATION_ATTEMPS---\")\n",
    "    if state[QUERY_TRANSFORMATION_ATTEMPTS] <= 0:\n",
    "        return \"NOT_SUPPORT_RESPOND_GENERATING\"\n",
    "    else:\n",
    "        return \"QUERY_TRANSFORMING\"\n"
   ]
  },
  {
   "cell_type": "markdown",
   "metadata": {},
   "source": [
    "#### Check Generation Attempts Number"
   ]
  },
  {
   "cell_type": "code",
   "execution_count": 33,
   "metadata": {},
   "outputs": [],
   "source": [
    "def choose_next_call_based_on_generation_attempts(state):\n",
    "    \"\"\"\n",
    "    Check the number of generation attempts, if equal zero,\n",
    "    and return the next node to call based on that.\n",
    "\n",
    "    Args:\n",
    "        state (dict): The current state graph\n",
    "    Returns:\n",
    "        Next node to call\n",
    "    \"\"\"\n",
    "\n",
    "    print(\"---CHOOSE_NEXT_NODE_BASED_ON_GENERATION_ATTEMPS---\")\n",
    "    if state[GENERATION_ATTEMPTS] <= 0:\n",
    "        print(\"---DECISION: NOT_SUPPORT_RESPOND_GENERATING\")\n",
    "        return \"NOT_SUPPORT_RESPOND_GENERATING\"\n",
    "    else:\n",
    "        print(\"---DECISION: GENERATION\")\n",
    "        return \"GENERATION\"\n"
   ]
  },
  {
   "cell_type": "markdown",
   "metadata": {},
   "source": [
    "#### Decide to Generate    "
   ]
  },
  {
   "cell_type": "code",
   "execution_count": 34,
   "metadata": {},
   "outputs": [],
   "source": [
    "def decide_to_generate(state):\n",
    "    \"\"\"\n",
    "    Determines whether to generate an asnwer, or re-write a query.\n",
    "\n",
    "    Args:\n",
    "        state (dict): The current graph state\n",
    "    Returns:\n",
    "        Binary decision for next node to call \n",
    "    \"\"\"\n",
    "        \n",
    "    print(\"---ASSESS GRADED DOCUMENTS---\")\n",
    "    state[QUERY]\n",
    "    filtered_docs = state[DOCUMENTS]\n",
    "\n",
    "    if not filtered_docs:\n",
    "        print(\"---DECISION: ALL DOCUMENTS ARE NOT RELEVANT TO QUERY, DECREASE QT ATTEMPTS---\")\n",
    "        return \"DECREASE_QT_ATTEMPTS\"\n",
    "    else:\n",
    "        print(\"---DECISION: DECREASE GENERATION ATTEMPS---\")\n",
    "        return \"DECREASE_GENERATION_ATTEMPS\"\n"
   ]
  },
  {
   "cell_type": "markdown",
   "metadata": {},
   "source": [
    "#### Grade Generation vs Documents and Query"
   ]
  },
  {
   "cell_type": "code",
   "execution_count": 35,
   "metadata": {},
   "outputs": [],
   "source": [
    "def grade_generation_v_documents_and_query(state):\n",
    "    \"\"\"\n",
    "    Determines whether the generation is frounded in the document and answers query.\n",
    "\n",
    "    Args:\n",
    "        state (dict): The current graph state\n",
    "    Returns:\n",
    "        Binary decision for next node to call\n",
    "    \"\"\"\n",
    "\n",
    "    print(\"---CHECK HALLUCINATION---\")\n",
    "    query = state[QUERY]\n",
    "    documents=state[DOCUMENTS]\n",
    "    generation=state[GENERATION]\n",
    "\n",
    "    score = hallucination_grader.invoke(\n",
    "        {\n",
    "            DOCUMENTS: documents,\n",
    "            GENERATION: generation\n",
    "        }\n",
    "    )\n",
    "\n",
    "    grade = score[\"score\"]\n",
    "\n",
    "    if grade == \"yes\":\n",
    "        print(\"---DECISION: GENERATION IS GROUNDED IN DOCUMENTS---\")\n",
    "        print(\"---GRADE GENERATION VS QUERY\")\n",
    "        score = answer_grader.invoke(\n",
    "            {\n",
    "                GENERATION:generation,\n",
    "                QUERY:query\n",
    "            }\n",
    "        )\n",
    "\n",
    "        grade = score[\"score\"]\n",
    "        if grade == \"yes\":\n",
    "            print(\"DECISION: GENERATION ADDRESSES QUERY---\")\n",
    "            return \"USEFUL\"\n",
    "        else:\n",
    "            print(\"---DECISION: GENERATION DOES NOT ADDRESS QUERY---\")\n",
    "            return \"NOT_USEFUL\"\n",
    "    else:\n",
    "        print(\"---DECISION: GENERATION IS NOT GROUNDED IN DOCUMENTS, RE-TRY---\")\n",
    "        return \"NOT_USEFUL\"\n"
   ]
  },
  {
   "cell_type": "markdown",
   "metadata": {},
   "source": [
    "## Graph Core"
   ]
  },
  {
   "cell_type": "code",
   "execution_count": 36,
   "metadata": {},
   "outputs": [],
   "source": [
    "workflow = StateGraph(GraphState)\n",
    "\n",
    "workflow.add_node(\"QUERY_RETREIVING_CHECKING\", check_query_retreiving)\n",
    "workflow.add_node(\"HISTORY_RELEVANT_CHECKING\", check_history_relevant)\n",
    "workflow.add_node(\"HISTORY_ONLY_GENERATING\", history_only_respond)\n",
    "workflow.add_node(\"AMBIGUOUS_RESPOND_GENERATING\", ambiguous_respond)\n",
    "workflow.add_node(\"CONTEXTUALIZING\", contextualize)\n",
    "workflow.add_node(\"RETRIEVING\", retrieve)\n",
    "workflow.add_node(\"DOCUMENTS_FILTERATING\", filterate_documents)\n",
    "workflow.add_node(\"DECREASE_QT_ATTEMPTS\", decrease_query_transformation_attempts)\n",
    "workflow.add_node(\"QT_ATTEMPTS_CHECKING\", check_query_transformation_attempts)\n",
    "workflow.add_node(\"DECREASE_GENERATION_ATTEMPS\", decrease_generation_attempts)\n",
    "workflow.add_node(\"GENERATION_ATTEMPTS_CHECKING\", check_generation_attempts)\n",
    "workflow.add_node(\"GENERATION\", generate)\n",
    "workflow.add_node(\"QUERY_TRANSFORMING\", transform_query)\n",
    "workflow.add_node(\"NOT_SUPPORT_RESPOND_GENERATING\", get_not_support_state)\n",
    "\n",
    "workflow.add_edge(START, \"QUERY_RETREIVING_CHECKING\")\n",
    "workflow.add_conditional_edges(\n",
    "    \"QUERY_RETREIVING_CHECKING\",\n",
    "    decide_node_to_call_based_on_query_retreive_grade,\n",
    "    {\n",
    "        \"UNRELATED\": \"RETRIEVING\",\n",
    "        \"AMBIGUOUS\": \"AMBIGUOUS_RESPOND_GENERATING\",\n",
    "        \"HISTORY\": \"HISTORY_RELEVANT_CHECKING\",\n",
    "    }\n",
    ")\n",
    "\n",
    "workflow.add_conditional_edges(\n",
    "    \"HISTORY_RELEVANT_CHECKING\",\n",
    "    decide_node_to_call_based_on_history_relevancy,\n",
    "    {\n",
    "        \"RELATED\": \"CONTEXTUALIZING\",\n",
    "        \"HISTORY_ONLY\": \"HISTORY_ONLY_GENERATING\"\n",
    "    }\n",
    ")\n",
    "\n",
    "workflow.add_edge(\"HISTORY_ONLY_GENERATING\", END)\n",
    "workflow.add_edge(\"AMBIGUOUS_RESPOND_GENERATING\", END)\n",
    "\n",
    "workflow.add_edge(\"CONTEXTUALIZING\", \"RETRIEVING\")\n",
    "workflow.add_edge(\"RETRIEVING\", \"DOCUMENTS_FILTERATING\")\n",
    "\n",
    "workflow.add_conditional_edges(\n",
    "    \"DOCUMENTS_FILTERATING\",\n",
    "    decide_to_generate,\n",
    "    {\n",
    "        \"DECREASE_QT_ATTEMPTS\": \"DECREASE_QT_ATTEMPTS\",\n",
    "        \"DECREASE_GENERATION_ATTEMPS\" : \"DECREASE_GENERATION_ATTEMPS\"\n",
    "    }\n",
    ")\n",
    "workflow.add_edge(\"DECREASE_QT_ATTEMPTS\", \"QT_ATTEMPTS_CHECKING\")\n",
    "workflow.add_conditional_edges(\n",
    "    \"QT_ATTEMPTS_CHECKING\",\n",
    "    choose_next_call_based_on_query_transformation_attempts,\n",
    "    {\n",
    "        \"QUERY_TRANSFORMING\": \"QUERY_TRANSFORMING\",\n",
    "        \"NOT_SUPPORT_RESPOND_GENERATING\": \"NOT_SUPPORT_RESPOND_GENERATING\"\n",
    "    }     \n",
    ")\n",
    "\n",
    "workflow.add_edge(\"QUERY_TRANSFORMING\", \"RETRIEVING\")\n",
    "workflow.add_edge(\"DECREASE_GENERATION_ATTEMPS\", \"GENERATION_ATTEMPTS_CHECKING\")\n",
    "workflow.add_conditional_edges(\n",
    "    \"GENERATION_ATTEMPTS_CHECKING\",\n",
    "    choose_next_call_based_on_generation_attempts,\n",
    "    {\n",
    "        \"NOT_SUPPORT_RESPOND_GENERATING\":\"NOT_SUPPORT_RESPOND_GENERATING\",\n",
    "        \"GENERATION\":\"GENERATION\"\n",
    "    }\n",
    ")\n",
    "\n",
    "workflow.add_edge(\"NOT_SUPPORT_RESPOND_GENERATING\", END)\n",
    "\n",
    "\n",
    "workflow.add_conditional_edges(\n",
    "    \"GENERATION\",\n",
    "    grade_generation_v_documents_and_query,\n",
    "    {\n",
    "        \"USEFUL\":END,\n",
    "        \"NOT_USEFUL\": \"DECREASE_GENERATION_ATTEMPS\"\n",
    "    }\n",
    ")\n",
    "\n",
    "app = workflow.compile()"
   ]
  },
  {
   "cell_type": "code",
   "execution_count": 37,
   "metadata": {},
   "outputs": [
    {
     "data": {
      "image/png": "[encoded data removed]",
      "text/plain": [
       "<IPython.core.display.Image object>"
      ]
     },
     "metadata": {},
     "output_type": "display_data"
    }
   ],
   "source": [
    "from IPython.display import Image, display\n",
    "display(Image(app.get_graph().draw_mermaid_png()))"
   ]
  },
  {
   "cell_type": "markdown",
   "metadata": {},
   "source": [
    "## Testing"
   ]
  },
  {
   "cell_type": "code",
   "execution_count": 38,
   "metadata": {},
   "outputs": [],
   "source": [
    "from pprint import pprint\n",
    "chat_history: BaseMessage = []\n",
    "\n",
    "def chat_llm(query: str):\n",
    "    inputs = {\n",
    "    QUERY : query,\n",
    "    CHAT_HISTORY: chat_history,\n",
    "    GENERATION_ATTEMPTS: 3,\n",
    "    QUERY_TRANSFORMATION_ATTEMPTS: 3\n",
    "    }\n",
    "\n",
    "    for output in app.stream(inputs):\n",
    "        for key, value in output.items():\n",
    "            pprint(f\"Node '{key}:\")\n",
    "        pprint(\"\\n---\\n\")\n",
    "\n",
    "    chat_history.append(HumanMessage(content=f'{value[QUERY]}'))\n",
    "    chat_history.append(AIMessage(content=f'{value[GENERATION]}'))\n",
    "\n",
    "    pprint(value[GENERATION])"
   ]
  },
  {
   "cell_type": "code",
   "execution_count": 39,
   "metadata": {},
   "outputs": [
    {
     "name": "stdout",
     "output_type": "stream",
     "text": [
      "---CHECK QUERY RETREIVING---\n",
      "---CHOOSE NEXT NODE TO CALL BASED ON QUERY RETREIVE GRADE---\n",
      "---DECISION: QUERY IS NOT RELATED TO THE CHAT HISTORY---\n",
      "\"Node 'QUERY_RETREIVING_CHECKING:\"\n",
      "'\\n---\\n'\n",
      "---RETRIEVE---\n",
      "\"Node 'RETRIEVING:\"\n",
      "'\\n---\\n'\n",
      "---CHECK DOCUMENTS RELEVANCE TO QUERY---\n",
      "---GRADE: DOCUMENT RELEVANT---\n",
      "---GRADE: DOCUMENT RELEVANT---\n",
      "---GRADE: DOCUMENT RELEVANT---\n",
      "---ASSESS GRADED DOCUMENTS---\n",
      "---DECISION: DECREASE GENERATION ATTEMPS---\n",
      "\"Node 'DOCUMENTS_FILTERATING:\"\n",
      "'\\n---\\n'\n",
      "---DECREASE_generation_attempts---\n",
      "GENERATION_ATTEMPTS: 3\n",
      "\"Node 'DECREASE_GENERATION_ATTEMPS:\"\n",
      "'\\n---\\n'\n",
      "---CHECK_Generation_ATTEMPS_NUMBER---\n",
      "---CHOOSE_NEXT_NODE_BASED_ON_GENERATION_ATTEMPS---\n",
      "---DECISION: GENERATION\n",
      "\"Node 'GENERATION_ATTEMPTS_CHECKING:\"\n",
      "'\\n---\\n'\n",
      "---GENERATE---\n",
      "---CHECK HALLUCINATION---\n",
      "---DECISION: GENERATION IS GROUNDED IN DOCUMENTS---\n",
      "---GRADE GENERATION VS QUERY\n",
      "DECISION: GENERATION ADDRESSES QUERY---\n",
      "\"Node 'GENERATION:\"\n",
      "'\\n---\\n'\n",
      "(\"Naruto Uzumaki is a shinobi from Konohagakure's Uzumaki clan. He became the \"\n",
      " 'jinchūriki of the Nine-Tails on the day of his birth, which led to him being '\n",
      " 'shunned by most of Konoha throughout his childhood. After joining Team '\n",
      " 'Kakashi, Naruto worked hard to gain the respect of his peers and eventually '\n",
      " 'became the Seventh Hokage of Konohagakure. He is known for his '\n",
      " 'determination, strong sense of justice, and his iconic ninja headband.\\n'\n",
      " '\\n'\n",
      " 'Ensure your answer is concise, clear, and informative, without being overly '\n",
      " 'brief.')\n"
     ]
    }
   ],
   "source": [
    "chat_llm(\"who is naruto?\")"
   ]
  },
  {
   "cell_type": "code",
   "execution_count": 40,
   "metadata": {},
   "outputs": [
    {
     "name": "stdout",
     "output_type": "stream",
     "text": [
      "---CHECK QUERY RETREIVING---\n",
      "---CHOOSE NEXT NODE TO CALL BASED ON QUERY RETREIVE GRADE---\n",
      "---DECISION: QUERY IS RELATED TO THE CHAT HISTORY---\n",
      "\"Node 'QUERY_RETREIVING_CHECKING:\"\n",
      "'\\n---\\n'\n",
      "---CHECK CHAT HISTORY RELEVANT---\n",
      "---CHOOSE NEXT NODE TO CALL BASED ON HISTORY RELEVANCY\n",
      "---DECISION: QUERY IS RELATED TO THE CHAT HISTORY---\n",
      "\"Node 'HISTORY_RELEVANT_CHECKING:\"\n",
      "'\\n---\\n'\n",
      "---CONTEXTUALIZE---\n",
      "Kakashi is Naruto's teacher.\n",
      "\"Node 'CONTEXTUALIZING:\"\n",
      "'\\n---\\n'\n",
      "---RETRIEVE---\n",
      "\"Node 'RETRIEVING:\"\n",
      "'\\n---\\n'\n",
      "---CHECK DOCUMENTS RELEVANCE TO QUERY---\n",
      "---GRADE: DOCUMENT RELEVANT---\n",
      "---GRADE: DOCUMENT RELEVANT---\n",
      "---GRADE: DOCUMENT NOT RELEVANT---\n",
      "---ASSESS GRADED DOCUMENTS---\n",
      "---DECISION: DECREASE GENERATION ATTEMPS---\n",
      "\"Node 'DOCUMENTS_FILTERATING:\"\n",
      "'\\n---\\n'\n",
      "---DECREASE_generation_attempts---\n",
      "GENERATION_ATTEMPTS: 3\n",
      "\"Node 'DECREASE_GENERATION_ATTEMPS:\"\n",
      "'\\n---\\n'\n",
      "---CHECK_Generation_ATTEMPS_NUMBER---\n",
      "---CHOOSE_NEXT_NODE_BASED_ON_GENERATION_ATTEMPS---\n",
      "---DECISION: GENERATION\n",
      "\"Node 'GENERATION_ATTEMPTS_CHECKING:\"\n",
      "'\\n---\\n'\n",
      "---GENERATE---\n",
      "---CHECK HALLUCINATION---\n",
      "---DECISION: GENERATION IS GROUNDED IN DOCUMENTS---\n",
      "---GRADE GENERATION VS QUERY\n",
      "DECISION: GENERATION ADDRESSES QUERY---\n",
      "\"Node 'GENERATION:\"\n",
      "'\\n---\\n'\n",
      "(\"Kakashi Hatake is Naruto's sensei, leading Team 7, which includes Naruto, \"\n",
      " 'Sasuke, and Sakura. He is an experienced and elite ninja who guides and '\n",
      " 'mentors his students on various missions.')\n"
     ]
    }
   ],
   "source": [
    "chat_llm(\"who is his techer?\")"
   ]
  },
  {
   "cell_type": "code",
   "execution_count": 41,
   "metadata": {},
   "outputs": [
    {
     "name": "stdout",
     "output_type": "stream",
     "text": [
      "---CHECK QUERY RETREIVING---\n",
      "---CHOOSE NEXT NODE TO CALL BASED ON QUERY RETREIVE GRADE---\n",
      "---DECISION: QUERY IS RELATED TO THE CHAT HISTORY---\n",
      "\"Node 'QUERY_RETREIVING_CHECKING:\"\n",
      "'\\n---\\n'\n",
      "---CHECK CHAT HISTORY RELEVANT---\n",
      "---CHOOSE NEXT NODE TO CALL BASED ON HISTORY RELEVANCY\n",
      "---DECISION: QUERY IS RELATED ONLY TO HISTORY---\n",
      "\"Node 'HISTORY_RELEVANT_CHECKING:\"\n",
      "'\\n---\\n'\n",
      "---GENERATE HISTORY ONLY ANSWER---\n",
      "\"Node 'HISTORY_ONLY_GENERATING:\"\n",
      "'\\n---\\n'\n",
      "(\"It seems we didn't discuss Naruto's father in our previous conversations. \"\n",
      " \"However, I can tell you that Naruto's father is the Fourth Hokage, Minato \"\n",
      " 'Namikaze. Would you like to know more about him?')\n"
     ]
    }
   ],
   "source": [
    "chat_llm(\"what is the name of his father?\")"
   ]
  },
  {
   "cell_type": "code",
   "execution_count": 44,
   "metadata": {},
   "outputs": [
    {
     "name": "stdout",
     "output_type": "stream",
     "text": [
      "---CHECK QUERY RETREIVING---\n",
      "---CHOOSE NEXT NODE TO CALL BASED ON QUERY RETREIVE GRADE---\n",
      "---DECISION: QUERY IS RELATED TO THE CHAT HISTORY---\n",
      "\"Node 'QUERY_RETREIVING_CHECKING:\"\n",
      "'\\n---\\n'\n",
      "---CHECK CHAT HISTORY RELEVANT---\n",
      "---CHOOSE NEXT NODE TO CALL BASED ON HISTORY RELEVANCY\n",
      "---DECISION: QUERY IS RELATED ONLY TO HISTORY---\n",
      "\"Node 'HISTORY_RELEVANT_CHECKING:\"\n",
      "'\\n---\\n'\n",
      "---GENERATE HISTORY ONLY ANSWER---\n",
      "\"Node 'HISTORY_ONLY_GENERATING:\"\n",
      "'\\n---\\n'\n",
      "(\"It seems we didn't discuss Kakashi's father in our previous conversations. \"\n",
      " \"However, I can tell you that Kakashi's father is Sakumo Hatake, also known \"\n",
      " 'as the White Fang, a legendary ninja from the Hatake clan. Would you like to '\n",
      " 'know more about him?')\n"
     ]
    }
   ],
   "source": [
    "chat_llm(\"who is kakashi father\")"
   ]
  }
 ],
 "metadata": {
  "kernelspec": {
   "display_name": "base",
   "language": "python",
   "name": "python3"
  },
  "language_info": {
   "codemirror_mode": {
    "name": "ipython",
    "version": 3
   },
   "file_extension": ".py",
   "mimetype": "text/x-python",
   "name": "python",
   "nbconvert_exporter": "python",
   "pygments_lexer": "ipython3",
   "version": "3.12.3"
  }
 },
 "nbformat": 4,
 "nbformat_minor": 2
}
