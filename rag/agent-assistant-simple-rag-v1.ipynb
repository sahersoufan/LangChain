{
 "cells": [
  {
   "cell_type": "markdown",
   "metadata": {},
   "source": [
    "Agent Assistant to Retrieve Data from Wikipidea."
   ]
  },
  {
   "cell_type": "code",
   "execution_count": 1,
   "metadata": {},
   "outputs": [
    {
     "data": {
      "text/plain": [
       "True"
      ]
     },
     "execution_count": 1,
     "metadata": {},
     "output_type": "execute_result"
    }
   ],
   "source": [
    "import os\n",
    "from dotenv import load_dotenv\n",
    "from langchain_text_splitters import RecursiveCharacterTextSplitter\n",
    "from langchain_community.document_loaders import WebBaseLoader\n",
    "from langchain_chroma import Chroma\n",
    "from langchain_huggingface.embeddings import HuggingFaceEmbeddings\n",
    "\n",
    "load_dotenv()"
   ]
  },
  {
   "cell_type": "code",
   "execution_count": null,
   "metadata": {},
   "outputs": [],
   "source": [
    "current_dir = os.path.curdir\n",
    "persistence_directory = os.path.join(current_dir, \"db\", \"assassins_db\")\n",
    "embedding = HuggingFaceEmbeddings(model_name = \"sentence-transformers/multi-qa-mpnet-base-dot-v1\")\n",
    "\n",
    "if not os.path.exists(persistence_directory):\n",
    "    print(\"persistent directory does not exist, Initializing vector store...\")\n",
    "\n",
    "    urls = [\n",
    "        \"https://en.wikipedia.org/wiki/Assassin%27s_Creed\"\n",
    "    ]\n",
    "    docs = [WebBaseLoader(url).load() for url in urls]\n",
    "    docs_list = [item for sublist in docs for item in sublist]\n",
    "    print(docs_list)\n",
    "\n",
    "    text_splitter = RecursiveCharacterTextSplitter.from_tiktoken_encoder(chunk_size=1000, chunk_overlap=200)\n",
    "    soc_splits = text_splitter.split_documents(docs_list)\n",
    "\n",
    "    db = Chroma.from_documents(\n",
    "        documents=docs_list,\n",
    "        collection_name=\"rag-chroma\",\n",
    "        embedding=embedding,\n",
    "        persist_directory=persistence_directory\n",
    "    )\n",
    "else:\n",
    "    db = Chroma(persist_directory=persistence_directory, embedding_function=embedding)"
   ]
  },
  {
   "cell_type": "code",
   "execution_count": 3,
   "metadata": {},
   "outputs": [],
   "source": [
    "retriever = db.as_retriever(search_type='similarity', search_kwargs={'k':3})"
   ]
  },
  {
   "cell_type": "code",
   "execution_count": 4,
   "metadata": {},
   "outputs": [],
   "source": [
    "def retrieve(query:str):\n",
    "    relevant_docs = retriever.invoke(query)\n",
    "    return relevant_docs"
   ]
  },
  {
   "cell_type": "markdown",
   "metadata": {},
   "source": [
    "Integrate with LLM"
   ]
  },
  {
   "cell_type": "code",
   "execution_count": 5,
   "metadata": {},
   "outputs": [],
   "source": [
    "from langchain.chains import create_history_aware_retriever, create_retrieval_chain\n",
    "from langchain.chains.combine_documents import create_stuff_documents_chain\n",
    "from langchain.prompts import ChatPromptTemplate, MessagesPlaceholder\n",
    "from langchain_core.messages import AIMessage, HumanMessage, SystemMessage\n",
    "from langchain_core.output_parsers import StrOutputParser\n",
    "from langchain_ollama import ChatOllama"
   ]
  },
  {
   "cell_type": "code",
   "execution_count": 6,
   "metadata": {},
   "outputs": [],
   "source": [
    "llm = ChatOllama(model=\"llama3\", temperature=0, verbose=1)\n",
    "\n",
    "\n",
    "contextualize_q_system_prompt = (\n",
    "    \"Given a chat history and the latest user question \"\n",
    "    \"which might reference context in the chat history, \"\n",
    "    \"formulate a standalone question which can be understood \"\n",
    "    \"without the chat history. Do NOT answer the question, just \"\n",
    "    \"reformulate it if needed and otherwise return it as is.\"\n",
    ")\n",
    "\n",
    "contextualize_q__prompt = ChatPromptTemplate.from_messages(\n",
    "    [\n",
    "        SystemMessage(content=contextualize_q_system_prompt),\n",
    "        MessagesPlaceholder(\"chat_history\"),\n",
    "        (\"human\", \"{input}\"),\n",
    "    ]\n",
    ")\n",
    "\n",
    "history_aware_retriever = create_history_aware_retriever(llm, retriever, contextualize_q__prompt)\n",
    "\n",
    "qa_system_prompt = \"\"\"\n",
    "You are an assistant for question-answering tasks about Assassins's Creed.\n",
    "Use the following pieces of retrieved context to answer the question.\n",
    "If you don't know the answer, just say that you don't know.\n",
    "Answer in this format:\n",
    "1. Start with \"Based on Assassins's Wekipedia:\" if relevant\n",
    "2. End with \"Ask me another question about Assassins's Creed!\"\n",
    "Use sentences to make you answer concise but not too long.\n",
    "Context: {context} \n",
    "Answer:\"\"\"\n",
    "\n",
    "qa_prompt = ChatPromptTemplate.from_messages(\n",
    "    [\n",
    "        (\"system\", qa_system_prompt),\n",
    "        MessagesPlaceholder(\"chat_history\"),\n",
    "        (\"human\", \"{input}\"),\n",
    "    ]\n",
    ")\n",
    "\n",
    "question_answer_chain = create_stuff_documents_chain(llm, qa_prompt)\n",
    "\n",
    "\n",
    "rag_chain = create_retrieval_chain(history_aware_retriever, question_answer_chain)\n",
    "\n",
    "chat_history = []  # Collect chat history here (a sequence of messages)\n",
    "# Function to simulate a continual chat with calling not chatting\n",
    "def continual_chat(query):\n",
    "    print(\"Start chatting\")\n",
    "    # Process the user's query through the retrieval chain\n",
    "    result = rag_chain.invoke({\"input\": query, \"chat_history\": chat_history})\n",
    "    # Display the AI's response\n",
    "    print(f\"AI: {result['answer']}\")\n",
    "    # Update the chat history\n",
    "    chat_history.append(HumanMessage(content=query))\n",
    "    chat_history.append(SystemMessage(content=result[\"answer\"]))\n"
   ]
  },
  {
   "cell_type": "code",
   "execution_count": 7,
   "metadata": {},
   "outputs": [
    {
     "name": "stderr",
     "output_type": "stream",
     "text": [
      "Number of requested results 3 is greater than number of elements in index 1, updating n_results = 1\n"
     ]
    },
    {
     "name": "stdout",
     "output_type": "stream",
     "text": [
      "Start chatting\n",
      "AI: The second game in the Assassin's Creed series is titled \"Assassin's Creed II\". It was released in 2009 for PlayStation 3, Xbox 360, and Microsoft Windows.\n",
      "\n",
      "Assassin's Creed II takes place in the late 15th century, during the Italian Renaissance. The game follows Ezio Auditore da Firenze, a new protagonist who is a member of the Assassin Brotherhood. The story takes place in Italy, specifically in Florence, Venice, Forli, and Rome.\n",
      "\n",
      "The game's storyline revolves around Ezio's quest for revenge against the Templar Order, which he believes is responsible for his family's death. Along the way, he uncovers a deeper conspiracy involving the Templars' plans to control the world.\n",
      "\n",
      "Assassin's Creed II introduced several new features to the series, including:\n",
      "\n",
      "1. Improved parkour mechanics: Ezio can climb and jump more efficiently than Altaïr in the first game.\n",
      "2. New combat mechanics: Ezio has access to a variety of weapons and abilities, such as dual-wielding pistols and throwing knives.\n",
      "3. A larger open world: The game features a more expansive open world, allowing players to explore Italy's cities and countryside.\n",
      "4. A deeper storyline: Assassin's Creed II has a more complex and engaging narrative than the first game, with multiple plot twists and characters.\n",
      "\n",
      "Assassin's Creed II received widespread critical acclaim for its improved gameplay, engaging story, and stunning visuals. It is considered one of the best games in the series and a must-play for fans of action-adventure games.\n"
     ]
    }
   ],
   "source": [
    "continual_chat(\"what is the second series of assassins creed?\")"
   ]
  },
  {
   "cell_type": "code",
   "execution_count": 8,
   "metadata": {},
   "outputs": [
    {
     "name": "stdout",
     "output_type": "stream",
     "text": [
      "Start chatting\n"
     ]
    },
    {
     "name": "stderr",
     "output_type": "stream",
     "text": [
      "Number of requested results 3 is greater than number of elements in index 1, updating n_results = 1\n"
     ]
    },
    {
     "name": "stdout",
     "output_type": "stream",
     "text": [
      "AI: The main character in Assassin's Creed is Ezio Auditore da Firenze. His full name is Ezio Alessandro Auditore Orsini da Firenze.\n"
     ]
    }
   ],
   "source": [
    "continual_chat(\"what is the full name of its main character?\")"
   ]
  },
  {
   "cell_type": "code",
   "execution_count": 9,
   "metadata": {},
   "outputs": [
    {
     "name": "stdout",
     "output_type": "stream",
     "text": [
      "Start chatting\n"
     ]
    },
    {
     "name": "stderr",
     "output_type": "stream",
     "text": [
      "Number of requested results 3 is greater than number of elements in index 1, updating n_results = 1\n"
     ]
    },
    {
     "name": "stdout",
     "output_type": "stream",
     "text": [
      "AI: Ezio Auditore da Firenze, the protagonist of Assassin's Creed II, does indeed die at the end of his story arc.\n",
      "\n",
      "Spoiler alert!\n",
      "\n",
      "At the end of Assassin's Creed II, Ezio is shown to have grown old and wise. He has fulfilled his revenge against the Templars and has become a legendary figure in the Assassin Brotherhood. As he reflects on his life, he realizes that it's time for him to pass on the mantle to the next generation.\n",
      "\n",
      "In a poignant scene, Ezio is shown to be sitting on a rooftop, looking out at the city of Rome. He takes a deep breath, and as he exhales, his eyes glaze over, and he passes away, surrounded by the memories of his loved ones and the Assassin Brotherhood.\n",
      "\n",
      "The game's ending is intentionally left open-ended, leaving players wondering about the fate of Ezio's legacy and the future of the Assassin Brotherhood.\n"
     ]
    }
   ],
   "source": [
    "continual_chat(\"Nice, did he died in this series?, and if he tell me how\")"
   ]
  }
 ],
 "metadata": {
  "kernelspec": {
   "display_name": "base",
   "language": "python",
   "name": "python3"
  },
  "language_info": {
   "codemirror_mode": {
    "name": "ipython",
    "version": 3
   },
   "file_extension": ".py",
   "mimetype": "text/x-python",
   "name": "python",
   "nbconvert_exporter": "python",
   "pygments_lexer": "ipython3",
   "version": "3.12.7"
  }
 },
 "nbformat": 4,
 "nbformat_minor": 2
}
